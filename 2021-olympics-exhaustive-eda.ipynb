{
 "cells": [
  {
   "cell_type": "code",
   "execution_count": 1,
   "id": "144a1985",
   "metadata": {
    "_cell_guid": "b1076dfc-b9ad-4769-8c92-a6c4dae69d19",
    "_uuid": "8f2839f25d086af736a60e9eeb907d3b93b6e0e5",
    "execution": {
     "iopub.execute_input": "2021-10-18T10:04:58.333815Z",
     "iopub.status.busy": "2021-10-18T10:04:58.332809Z",
     "iopub.status.idle": "2021-10-18T10:04:58.349560Z",
     "shell.execute_reply": "2021-10-18T10:04:58.348620Z",
     "shell.execute_reply.started": "2021-10-18T08:54:47.366134Z"
    },
    "papermill": {
     "duration": 0.075912,
     "end_time": "2021-10-18T10:04:58.349743",
     "exception": false,
     "start_time": "2021-10-18T10:04:58.273831",
     "status": "completed"
    },
    "tags": []
   },
   "outputs": [
    {
     "name": "stdout",
     "output_type": "stream",
     "text": [
      "/kaggle/input/2021-olympics-in-tokyo/EntriesGender.xlsx\n",
      "/kaggle/input/2021-olympics-in-tokyo/Teams.xlsx\n",
      "/kaggle/input/2021-olympics-in-tokyo/Athletes.xlsx\n",
      "/kaggle/input/2021-olympics-in-tokyo/Coaches.xlsx\n",
      "/kaggle/input/2021-olympics-in-tokyo/Medals.xlsx\n"
     ]
    }
   ],
   "source": [
    "# This Python 3 environment comes with many helpful analytics libraries installed\n",
    "# It is defined by the kaggle/python Docker image: https://github.com/kaggle/docker-python\n",
    "# For example, here's several helpful packages to load\n",
    "\n",
    "import numpy as np # linear algebra\n",
    "import pandas as pd # data processing, CSV file I/O (e.g. pd.read_csv)\n",
    "\n",
    "# Input data files are available in the read-only \"../input/\" directory\n",
    "# For example, running this (by clicking run or pressing Shift+Enter) will list all files under the input directory\n",
    "\n",
    "import os\n",
    "for dirname, _, filenames in os.walk('/kaggle/input'):\n",
    "    for filename in filenames:\n",
    "        print(os.path.join(dirname, filename))\n",
    "\n",
    "# You can write up to 20GB to the current directory (/kaggle/working/) that gets preserved as output when you create a version using \"Save & Run All\" \n",
    "# You can also write temporary files to /kaggle/temp/, but they won't be saved outside of the current session"
   ]
  },
  {
   "cell_type": "code",
   "execution_count": 2,
   "id": "7f675610",
   "metadata": {
    "execution": {
     "iopub.execute_input": "2021-10-18T10:04:58.461319Z",
     "iopub.status.busy": "2021-10-18T10:04:58.460322Z",
     "iopub.status.idle": "2021-10-18T10:05:10.287237Z",
     "shell.execute_reply": "2021-10-18T10:05:10.287704Z",
     "shell.execute_reply.started": "2021-10-18T08:54:47.409838Z"
    },
    "papermill": {
     "duration": 11.891222,
     "end_time": "2021-10-18T10:05:10.287886",
     "exception": false,
     "start_time": "2021-10-18T10:04:58.396664",
     "status": "completed"
    },
    "tags": []
   },
   "outputs": [
    {
     "name": "stdout",
     "output_type": "stream",
     "text": [
      "Collecting openpyxl\r\n",
      "  Downloading openpyxl-3.0.9-py2.py3-none-any.whl (242 kB)\r\n",
      "\u001b[K     |████████████████████████████████| 242 kB 283 kB/s \r\n",
      "\u001b[?25hCollecting et-xmlfile\r\n",
      "  Downloading et_xmlfile-1.1.0-py3-none-any.whl (4.7 kB)\r\n",
      "Installing collected packages: et-xmlfile, openpyxl\r\n",
      "Successfully installed et-xmlfile-1.1.0 openpyxl-3.0.9\r\n",
      "\u001b[33mWARNING: Running pip as the 'root' user can result in broken permissions and conflicting behaviour with the system package manager. It is recommended to use a virtual environment instead: https://pip.pypa.io/warnings/venv\u001b[0m\r\n",
      "Note: you may need to restart the kernel to use updated packages.\n"
     ]
    }
   ],
   "source": [
    "pip install openpyxl\n"
   ]
  },
  {
   "cell_type": "code",
   "execution_count": 3,
   "id": "6a194ceb",
   "metadata": {
    "execution": {
     "iopub.execute_input": "2021-10-18T10:05:10.391648Z",
     "iopub.status.busy": "2021-10-18T10:05:10.390651Z",
     "iopub.status.idle": "2021-10-18T10:05:12.016442Z",
     "shell.execute_reply": "2021-10-18T10:05:12.017353Z",
     "shell.execute_reply.started": "2021-10-18T08:54:58.261129Z"
    },
    "papermill": {
     "duration": 1.68141,
     "end_time": "2021-10-18T10:05:12.017624",
     "exception": false,
     "start_time": "2021-10-18T10:05:10.336214",
     "status": "completed"
    },
    "tags": []
   },
   "outputs": [
    {
     "name": "stderr",
     "output_type": "stream",
     "text": [
      "/opt/conda/lib/python3.7/site-packages/openpyxl/styles/stylesheet.py:226: UserWarning: Workbook contains no default style, apply openpyxl's default\n",
      "  warn(\"Workbook contains no default style, apply openpyxl's default\")\n"
     ]
    }
   ],
   "source": [
    "#importing files into pandas dataframes\n",
    "\n",
    "athletes_df = pd.read_excel('/kaggle/input/2021-olympics-in-tokyo/Athletes.xlsx')\n",
    "coaches_df = pd.read_excel('/kaggle/input/2021-olympics-in-tokyo/Coaches.xlsx')\n",
    "gender_df = pd.read_excel('/kaggle/input/2021-olympics-in-tokyo/EntriesGender.xlsx')\n",
    "medals_df = pd.read_excel('/kaggle/input/2021-olympics-in-tokyo/Medals.xlsx')\n",
    "teams_df = pd.read_excel('/kaggle/input/2021-olympics-in-tokyo/Teams.xlsx')\n"
   ]
  },
  {
   "cell_type": "code",
   "execution_count": 4,
   "id": "511753a8",
   "metadata": {
    "execution": {
     "iopub.execute_input": "2021-10-18T10:05:12.126973Z",
     "iopub.status.busy": "2021-10-18T10:05:12.126295Z",
     "iopub.status.idle": "2021-10-18T10:05:12.136778Z",
     "shell.execute_reply": "2021-10-18T10:05:12.137304Z",
     "shell.execute_reply.started": "2021-10-18T08:54:59.866169Z"
    },
    "papermill": {
     "duration": 0.070725,
     "end_time": "2021-10-18T10:05:12.137478",
     "exception": false,
     "start_time": "2021-10-18T10:05:12.066753",
     "status": "completed"
    },
    "tags": []
   },
   "outputs": [
    {
     "data": {
      "text/html": [
       "<div>\n",
       "<style scoped>\n",
       "    .dataframe tbody tr th:only-of-type {\n",
       "        vertical-align: middle;\n",
       "    }\n",
       "\n",
       "    .dataframe tbody tr th {\n",
       "        vertical-align: top;\n",
       "    }\n",
       "\n",
       "    .dataframe thead th {\n",
       "        text-align: right;\n",
       "    }\n",
       "</style>\n",
       "<table border=\"1\" class=\"dataframe\">\n",
       "  <thead>\n",
       "    <tr style=\"text-align: right;\">\n",
       "      <th></th>\n",
       "      <th>Name</th>\n",
       "      <th>NOC</th>\n",
       "      <th>Discipline</th>\n",
       "    </tr>\n",
       "  </thead>\n",
       "  <tbody>\n",
       "    <tr>\n",
       "      <th>0</th>\n",
       "      <td>AALERUD Katrine</td>\n",
       "      <td>Norway</td>\n",
       "      <td>Cycling Road</td>\n",
       "    </tr>\n",
       "    <tr>\n",
       "      <th>1</th>\n",
       "      <td>ABAD Nestor</td>\n",
       "      <td>Spain</td>\n",
       "      <td>Artistic Gymnastics</td>\n",
       "    </tr>\n",
       "    <tr>\n",
       "      <th>2</th>\n",
       "      <td>ABAGNALE Giovanni</td>\n",
       "      <td>Italy</td>\n",
       "      <td>Rowing</td>\n",
       "    </tr>\n",
       "    <tr>\n",
       "      <th>3</th>\n",
       "      <td>ABALDE Alberto</td>\n",
       "      <td>Spain</td>\n",
       "      <td>Basketball</td>\n",
       "    </tr>\n",
       "    <tr>\n",
       "      <th>4</th>\n",
       "      <td>ABALDE Tamara</td>\n",
       "      <td>Spain</td>\n",
       "      <td>Basketball</td>\n",
       "    </tr>\n",
       "  </tbody>\n",
       "</table>\n",
       "</div>"
      ],
      "text/plain": [
       "                Name     NOC           Discipline\n",
       "0    AALERUD Katrine  Norway         Cycling Road\n",
       "1        ABAD Nestor   Spain  Artistic Gymnastics\n",
       "2  ABAGNALE Giovanni   Italy               Rowing\n",
       "3     ABALDE Alberto   Spain           Basketball\n",
       "4      ABALDE Tamara   Spain           Basketball"
      ]
     },
     "execution_count": 4,
     "metadata": {},
     "output_type": "execute_result"
    }
   ],
   "source": [
    "athletes_df.head()"
   ]
  },
  {
   "cell_type": "code",
   "execution_count": 5,
   "id": "236675df",
   "metadata": {
    "execution": {
     "iopub.execute_input": "2021-10-18T10:05:12.247522Z",
     "iopub.status.busy": "2021-10-18T10:05:12.246513Z",
     "iopub.status.idle": "2021-10-18T10:05:12.250477Z",
     "shell.execute_reply": "2021-10-18T10:05:12.250919Z",
     "shell.execute_reply.started": "2021-10-18T08:54:59.885661Z"
    },
    "papermill": {
     "duration": 0.064642,
     "end_time": "2021-10-18T10:05:12.251128",
     "exception": false,
     "start_time": "2021-10-18T10:05:12.186486",
     "status": "completed"
    },
    "tags": []
   },
   "outputs": [
    {
     "data": {
      "text/html": [
       "<div>\n",
       "<style scoped>\n",
       "    .dataframe tbody tr th:only-of-type {\n",
       "        vertical-align: middle;\n",
       "    }\n",
       "\n",
       "    .dataframe tbody tr th {\n",
       "        vertical-align: top;\n",
       "    }\n",
       "\n",
       "    .dataframe thead th {\n",
       "        text-align: right;\n",
       "    }\n",
       "</style>\n",
       "<table border=\"1\" class=\"dataframe\">\n",
       "  <thead>\n",
       "    <tr style=\"text-align: right;\">\n",
       "      <th></th>\n",
       "      <th>Name</th>\n",
       "      <th>NOC</th>\n",
       "      <th>Discipline</th>\n",
       "      <th>Event</th>\n",
       "    </tr>\n",
       "  </thead>\n",
       "  <tbody>\n",
       "    <tr>\n",
       "      <th>0</th>\n",
       "      <td>ABDELMAGID Wael</td>\n",
       "      <td>Egypt</td>\n",
       "      <td>Football</td>\n",
       "      <td>NaN</td>\n",
       "    </tr>\n",
       "    <tr>\n",
       "      <th>1</th>\n",
       "      <td>ABE Junya</td>\n",
       "      <td>Japan</td>\n",
       "      <td>Volleyball</td>\n",
       "      <td>NaN</td>\n",
       "    </tr>\n",
       "    <tr>\n",
       "      <th>2</th>\n",
       "      <td>ABE Katsuhiko</td>\n",
       "      <td>Japan</td>\n",
       "      <td>Basketball</td>\n",
       "      <td>NaN</td>\n",
       "    </tr>\n",
       "    <tr>\n",
       "      <th>3</th>\n",
       "      <td>ADAMA Cherif</td>\n",
       "      <td>Côte d'Ivoire</td>\n",
       "      <td>Football</td>\n",
       "      <td>NaN</td>\n",
       "    </tr>\n",
       "    <tr>\n",
       "      <th>4</th>\n",
       "      <td>AGEBA Yuya</td>\n",
       "      <td>Japan</td>\n",
       "      <td>Volleyball</td>\n",
       "      <td>NaN</td>\n",
       "    </tr>\n",
       "  </tbody>\n",
       "</table>\n",
       "</div>"
      ],
      "text/plain": [
       "              Name            NOC  Discipline Event\n",
       "0  ABDELMAGID Wael          Egypt    Football   NaN\n",
       "1        ABE Junya          Japan  Volleyball   NaN\n",
       "2    ABE Katsuhiko          Japan  Basketball   NaN\n",
       "3     ADAMA Cherif  Côte d'Ivoire    Football   NaN\n",
       "4       AGEBA Yuya          Japan  Volleyball   NaN"
      ]
     },
     "execution_count": 5,
     "metadata": {},
     "output_type": "execute_result"
    }
   ],
   "source": [
    "coaches_df.head()"
   ]
  },
  {
   "cell_type": "code",
   "execution_count": 6,
   "id": "1be31a98",
   "metadata": {
    "execution": {
     "iopub.execute_input": "2021-10-18T10:05:12.352822Z",
     "iopub.status.busy": "2021-10-18T10:05:12.352182Z",
     "iopub.status.idle": "2021-10-18T10:05:12.361990Z",
     "shell.execute_reply": "2021-10-18T10:05:12.361458Z",
     "shell.execute_reply.started": "2021-10-18T08:54:59.898507Z"
    },
    "papermill": {
     "duration": 0.061834,
     "end_time": "2021-10-18T10:05:12.362133",
     "exception": false,
     "start_time": "2021-10-18T10:05:12.300299",
     "status": "completed"
    },
    "tags": []
   },
   "outputs": [
    {
     "data": {
      "text/html": [
       "<div>\n",
       "<style scoped>\n",
       "    .dataframe tbody tr th:only-of-type {\n",
       "        vertical-align: middle;\n",
       "    }\n",
       "\n",
       "    .dataframe tbody tr th {\n",
       "        vertical-align: top;\n",
       "    }\n",
       "\n",
       "    .dataframe thead th {\n",
       "        text-align: right;\n",
       "    }\n",
       "</style>\n",
       "<table border=\"1\" class=\"dataframe\">\n",
       "  <thead>\n",
       "    <tr style=\"text-align: right;\">\n",
       "      <th></th>\n",
       "      <th>Discipline</th>\n",
       "      <th>Female</th>\n",
       "      <th>Male</th>\n",
       "      <th>Total</th>\n",
       "    </tr>\n",
       "  </thead>\n",
       "  <tbody>\n",
       "    <tr>\n",
       "      <th>0</th>\n",
       "      <td>3x3 Basketball</td>\n",
       "      <td>32</td>\n",
       "      <td>32</td>\n",
       "      <td>64</td>\n",
       "    </tr>\n",
       "    <tr>\n",
       "      <th>1</th>\n",
       "      <td>Archery</td>\n",
       "      <td>64</td>\n",
       "      <td>64</td>\n",
       "      <td>128</td>\n",
       "    </tr>\n",
       "    <tr>\n",
       "      <th>2</th>\n",
       "      <td>Artistic Gymnastics</td>\n",
       "      <td>98</td>\n",
       "      <td>98</td>\n",
       "      <td>196</td>\n",
       "    </tr>\n",
       "    <tr>\n",
       "      <th>3</th>\n",
       "      <td>Artistic Swimming</td>\n",
       "      <td>105</td>\n",
       "      <td>0</td>\n",
       "      <td>105</td>\n",
       "    </tr>\n",
       "    <tr>\n",
       "      <th>4</th>\n",
       "      <td>Athletics</td>\n",
       "      <td>969</td>\n",
       "      <td>1072</td>\n",
       "      <td>2041</td>\n",
       "    </tr>\n",
       "  </tbody>\n",
       "</table>\n",
       "</div>"
      ],
      "text/plain": [
       "            Discipline  Female  Male  Total\n",
       "0       3x3 Basketball      32    32     64\n",
       "1              Archery      64    64    128\n",
       "2  Artistic Gymnastics      98    98    196\n",
       "3    Artistic Swimming     105     0    105\n",
       "4            Athletics     969  1072   2041"
      ]
     },
     "execution_count": 6,
     "metadata": {},
     "output_type": "execute_result"
    }
   ],
   "source": [
    "gender_df.head()"
   ]
  },
  {
   "cell_type": "code",
   "execution_count": 7,
   "id": "d32f3f60",
   "metadata": {
    "execution": {
     "iopub.execute_input": "2021-10-18T10:05:12.467758Z",
     "iopub.status.busy": "2021-10-18T10:05:12.466753Z",
     "iopub.status.idle": "2021-10-18T10:05:12.477770Z",
     "shell.execute_reply": "2021-10-18T10:05:12.478299Z",
     "shell.execute_reply.started": "2021-10-18T08:54:59.914819Z"
    },
    "papermill": {
     "duration": 0.064685,
     "end_time": "2021-10-18T10:05:12.478472",
     "exception": false,
     "start_time": "2021-10-18T10:05:12.413787",
     "status": "completed"
    },
    "tags": []
   },
   "outputs": [
    {
     "data": {
      "text/html": [
       "<div>\n",
       "<style scoped>\n",
       "    .dataframe tbody tr th:only-of-type {\n",
       "        vertical-align: middle;\n",
       "    }\n",
       "\n",
       "    .dataframe tbody tr th {\n",
       "        vertical-align: top;\n",
       "    }\n",
       "\n",
       "    .dataframe thead th {\n",
       "        text-align: right;\n",
       "    }\n",
       "</style>\n",
       "<table border=\"1\" class=\"dataframe\">\n",
       "  <thead>\n",
       "    <tr style=\"text-align: right;\">\n",
       "      <th></th>\n",
       "      <th>Rank</th>\n",
       "      <th>Team/NOC</th>\n",
       "      <th>Gold</th>\n",
       "      <th>Silver</th>\n",
       "      <th>Bronze</th>\n",
       "      <th>Total</th>\n",
       "      <th>Rank by Total</th>\n",
       "    </tr>\n",
       "  </thead>\n",
       "  <tbody>\n",
       "    <tr>\n",
       "      <th>0</th>\n",
       "      <td>1</td>\n",
       "      <td>United States of America</td>\n",
       "      <td>39</td>\n",
       "      <td>41</td>\n",
       "      <td>33</td>\n",
       "      <td>113</td>\n",
       "      <td>1</td>\n",
       "    </tr>\n",
       "    <tr>\n",
       "      <th>1</th>\n",
       "      <td>2</td>\n",
       "      <td>People's Republic of China</td>\n",
       "      <td>38</td>\n",
       "      <td>32</td>\n",
       "      <td>18</td>\n",
       "      <td>88</td>\n",
       "      <td>2</td>\n",
       "    </tr>\n",
       "    <tr>\n",
       "      <th>2</th>\n",
       "      <td>3</td>\n",
       "      <td>Japan</td>\n",
       "      <td>27</td>\n",
       "      <td>14</td>\n",
       "      <td>17</td>\n",
       "      <td>58</td>\n",
       "      <td>5</td>\n",
       "    </tr>\n",
       "    <tr>\n",
       "      <th>3</th>\n",
       "      <td>4</td>\n",
       "      <td>Great Britain</td>\n",
       "      <td>22</td>\n",
       "      <td>21</td>\n",
       "      <td>22</td>\n",
       "      <td>65</td>\n",
       "      <td>4</td>\n",
       "    </tr>\n",
       "    <tr>\n",
       "      <th>4</th>\n",
       "      <td>5</td>\n",
       "      <td>ROC</td>\n",
       "      <td>20</td>\n",
       "      <td>28</td>\n",
       "      <td>23</td>\n",
       "      <td>71</td>\n",
       "      <td>3</td>\n",
       "    </tr>\n",
       "  </tbody>\n",
       "</table>\n",
       "</div>"
      ],
      "text/plain": [
       "   Rank                    Team/NOC  Gold  Silver  Bronze  Total  \\\n",
       "0     1    United States of America    39      41      33    113   \n",
       "1     2  People's Republic of China    38      32      18     88   \n",
       "2     3                       Japan    27      14      17     58   \n",
       "3     4               Great Britain    22      21      22     65   \n",
       "4     5                         ROC    20      28      23     71   \n",
       "\n",
       "   Rank by Total  \n",
       "0              1  \n",
       "1              2  \n",
       "2              5  \n",
       "3              4  \n",
       "4              3  "
      ]
     },
     "execution_count": 7,
     "metadata": {},
     "output_type": "execute_result"
    }
   ],
   "source": [
    "medals_df.head()"
   ]
  },
  {
   "cell_type": "code",
   "execution_count": 8,
   "id": "da2170f2",
   "metadata": {
    "execution": {
     "iopub.execute_input": "2021-10-18T10:05:12.582615Z",
     "iopub.status.busy": "2021-10-18T10:05:12.581604Z",
     "iopub.status.idle": "2021-10-18T10:05:12.593121Z",
     "shell.execute_reply": "2021-10-18T10:05:12.592535Z",
     "shell.execute_reply.started": "2021-10-18T08:54:59.929310Z"
    },
    "papermill": {
     "duration": 0.064943,
     "end_time": "2021-10-18T10:05:12.593262",
     "exception": false,
     "start_time": "2021-10-18T10:05:12.528319",
     "status": "completed"
    },
    "tags": []
   },
   "outputs": [
    {
     "data": {
      "text/html": [
       "<div>\n",
       "<style scoped>\n",
       "    .dataframe tbody tr th:only-of-type {\n",
       "        vertical-align: middle;\n",
       "    }\n",
       "\n",
       "    .dataframe tbody tr th {\n",
       "        vertical-align: top;\n",
       "    }\n",
       "\n",
       "    .dataframe thead th {\n",
       "        text-align: right;\n",
       "    }\n",
       "</style>\n",
       "<table border=\"1\" class=\"dataframe\">\n",
       "  <thead>\n",
       "    <tr style=\"text-align: right;\">\n",
       "      <th></th>\n",
       "      <th>Name</th>\n",
       "      <th>Discipline</th>\n",
       "      <th>NOC</th>\n",
       "      <th>Event</th>\n",
       "    </tr>\n",
       "  </thead>\n",
       "  <tbody>\n",
       "    <tr>\n",
       "      <th>0</th>\n",
       "      <td>Belgium</td>\n",
       "      <td>3x3 Basketball</td>\n",
       "      <td>Belgium</td>\n",
       "      <td>Men</td>\n",
       "    </tr>\n",
       "    <tr>\n",
       "      <th>1</th>\n",
       "      <td>China</td>\n",
       "      <td>3x3 Basketball</td>\n",
       "      <td>People's Republic of China</td>\n",
       "      <td>Men</td>\n",
       "    </tr>\n",
       "    <tr>\n",
       "      <th>2</th>\n",
       "      <td>China</td>\n",
       "      <td>3x3 Basketball</td>\n",
       "      <td>People's Republic of China</td>\n",
       "      <td>Women</td>\n",
       "    </tr>\n",
       "    <tr>\n",
       "      <th>3</th>\n",
       "      <td>France</td>\n",
       "      <td>3x3 Basketball</td>\n",
       "      <td>France</td>\n",
       "      <td>Women</td>\n",
       "    </tr>\n",
       "    <tr>\n",
       "      <th>4</th>\n",
       "      <td>Italy</td>\n",
       "      <td>3x3 Basketball</td>\n",
       "      <td>Italy</td>\n",
       "      <td>Women</td>\n",
       "    </tr>\n",
       "  </tbody>\n",
       "</table>\n",
       "</div>"
      ],
      "text/plain": [
       "      Name      Discipline                         NOC  Event\n",
       "0  Belgium  3x3 Basketball                     Belgium    Men\n",
       "1    China  3x3 Basketball  People's Republic of China    Men\n",
       "2    China  3x3 Basketball  People's Republic of China  Women\n",
       "3   France  3x3 Basketball                      France  Women\n",
       "4    Italy  3x3 Basketball                       Italy  Women"
      ]
     },
     "execution_count": 8,
     "metadata": {},
     "output_type": "execute_result"
    }
   ],
   "source": [
    "teams_df.head()"
   ]
  },
  {
   "cell_type": "code",
   "execution_count": 9,
   "id": "8940c5df",
   "metadata": {
    "execution": {
     "iopub.execute_input": "2021-10-18T10:05:12.706896Z",
     "iopub.status.busy": "2021-10-18T10:05:12.706231Z",
     "iopub.status.idle": "2021-10-18T10:05:12.719065Z",
     "shell.execute_reply": "2021-10-18T10:05:12.719684Z",
     "shell.execute_reply.started": "2021-10-18T08:54:59.946938Z"
    },
    "papermill": {
     "duration": 0.075616,
     "end_time": "2021-10-18T10:05:12.719859",
     "exception": false,
     "start_time": "2021-10-18T10:05:12.644243",
     "status": "completed"
    },
    "tags": []
   },
   "outputs": [
    {
     "name": "stdout",
     "output_type": "stream",
     "text": [
      "<class 'pandas.core.frame.DataFrame'>\n",
      "RangeIndex: 743 entries, 0 to 742\n",
      "Data columns (total 4 columns):\n",
      " #   Column      Non-Null Count  Dtype \n",
      "---  ------      --------------  ----- \n",
      " 0   Name        743 non-null    object\n",
      " 1   Discipline  743 non-null    object\n",
      " 2   NOC         743 non-null    object\n",
      " 3   Event       743 non-null    object\n",
      "dtypes: object(4)\n",
      "memory usage: 23.3+ KB\n"
     ]
    }
   ],
   "source": [
    "teams_df.info()"
   ]
  },
  {
   "cell_type": "code",
   "execution_count": 10,
   "id": "88c2df1b",
   "metadata": {
    "execution": {
     "iopub.execute_input": "2021-10-18T10:05:12.831071Z",
     "iopub.status.busy": "2021-10-18T10:05:12.827181Z",
     "iopub.status.idle": "2021-10-18T10:05:12.836993Z",
     "shell.execute_reply": "2021-10-18T10:05:12.837499Z",
     "shell.execute_reply.started": "2021-10-18T08:54:59.973189Z"
    },
    "papermill": {
     "duration": 0.066945,
     "end_time": "2021-10-18T10:05:12.837670",
     "exception": false,
     "start_time": "2021-10-18T10:05:12.770725",
     "status": "completed"
    },
    "tags": []
   },
   "outputs": [
    {
     "data": {
      "text/plain": [
       "Name          0\n",
       "NOC           0\n",
       "Discipline    0\n",
       "dtype: int64"
      ]
     },
     "execution_count": 10,
     "metadata": {},
     "output_type": "execute_result"
    }
   ],
   "source": [
    "athletes_df.isnull().sum()"
   ]
  },
  {
   "cell_type": "code",
   "execution_count": 11,
   "id": "79db6d2c",
   "metadata": {
    "execution": {
     "iopub.execute_input": "2021-10-18T10:05:12.951427Z",
     "iopub.status.busy": "2021-10-18T10:05:12.950629Z",
     "iopub.status.idle": "2021-10-18T10:05:12.953745Z",
     "shell.execute_reply": "2021-10-18T10:05:12.954296Z",
     "shell.execute_reply.started": "2021-10-18T08:54:59.988231Z"
    },
    "papermill": {
     "duration": 0.063822,
     "end_time": "2021-10-18T10:05:12.954467",
     "exception": false,
     "start_time": "2021-10-18T10:05:12.890645",
     "status": "completed"
    },
    "tags": []
   },
   "outputs": [
    {
     "data": {
      "text/plain": [
       "Discipline    0\n",
       "Female        0\n",
       "Male          0\n",
       "Total         0\n",
       "dtype: int64"
      ]
     },
     "execution_count": 11,
     "metadata": {},
     "output_type": "execute_result"
    }
   ],
   "source": [
    "gender_df.isnull().sum()"
   ]
  },
  {
   "cell_type": "code",
   "execution_count": 12,
   "id": "ad5d3195",
   "metadata": {
    "execution": {
     "iopub.execute_input": "2021-10-18T10:05:13.064170Z",
     "iopub.status.busy": "2021-10-18T10:05:13.063046Z",
     "iopub.status.idle": "2021-10-18T10:05:13.068971Z",
     "shell.execute_reply": "2021-10-18T10:05:13.069590Z",
     "shell.execute_reply.started": "2021-10-18T08:54:59.998764Z"
    },
    "papermill": {
     "duration": 0.062513,
     "end_time": "2021-10-18T10:05:13.069767",
     "exception": false,
     "start_time": "2021-10-18T10:05:13.007254",
     "status": "completed"
    },
    "tags": []
   },
   "outputs": [
    {
     "data": {
      "text/plain": [
       "(93, 7)"
      ]
     },
     "execution_count": 12,
     "metadata": {},
     "output_type": "execute_result"
    }
   ],
   "source": [
    "medals_df.shape"
   ]
  },
  {
   "cell_type": "code",
   "execution_count": 13,
   "id": "30514384",
   "metadata": {
    "execution": {
     "iopub.execute_input": "2021-10-18T10:05:13.189762Z",
     "iopub.status.busy": "2021-10-18T10:05:13.188827Z",
     "iopub.status.idle": "2021-10-18T10:05:13.192398Z",
     "shell.execute_reply": "2021-10-18T10:05:13.192895Z",
     "shell.execute_reply.started": "2021-10-18T08:55:00.013360Z"
    },
    "papermill": {
     "duration": 0.069747,
     "end_time": "2021-10-18T10:05:13.193113",
     "exception": false,
     "start_time": "2021-10-18T10:05:13.123366",
     "status": "completed"
    },
    "tags": []
   },
   "outputs": [
    {
     "name": "stdout",
     "output_type": "stream",
     "text": [
      "<class 'pandas.core.frame.DataFrame'>\n",
      "RangeIndex: 93 entries, 0 to 92\n",
      "Data columns (total 7 columns):\n",
      " #   Column         Non-Null Count  Dtype \n",
      "---  ------         --------------  ----- \n",
      " 0   Rank           93 non-null     int64 \n",
      " 1   Team/NOC       93 non-null     object\n",
      " 2   Gold           93 non-null     int64 \n",
      " 3   Silver         93 non-null     int64 \n",
      " 4   Bronze         93 non-null     int64 \n",
      " 5   Total          93 non-null     int64 \n",
      " 6   Rank by Total  93 non-null     int64 \n",
      "dtypes: int64(6), object(1)\n",
      "memory usage: 5.2+ KB\n"
     ]
    }
   ],
   "source": [
    "medals_df.info()"
   ]
  },
  {
   "cell_type": "code",
   "execution_count": 14,
   "id": "1321e214",
   "metadata": {
    "execution": {
     "iopub.execute_input": "2021-10-18T10:05:13.305643Z",
     "iopub.status.busy": "2021-10-18T10:05:13.304947Z",
     "iopub.status.idle": "2021-10-18T10:05:13.315320Z",
     "shell.execute_reply": "2021-10-18T10:05:13.314552Z",
     "shell.execute_reply.started": "2021-10-18T08:55:00.032318Z"
    },
    "papermill": {
     "duration": 0.069377,
     "end_time": "2021-10-18T10:05:13.315489",
     "exception": false,
     "start_time": "2021-10-18T10:05:13.246112",
     "status": "completed"
    },
    "tags": []
   },
   "outputs": [
    {
     "data": {
      "text/plain": [
       "NOC\n",
       "Afghanistan                 5\n",
       "Albania                     8\n",
       "Algeria                    41\n",
       "American Samoa              5\n",
       "Andorra                     2\n",
       "                           ..\n",
       "Virgin Islands, British     3\n",
       "Virgin Islands, US          4\n",
       "Yemen                       3\n",
       "Zambia                     29\n",
       "Zimbabwe                    5\n",
       "Name: Discipline, Length: 206, dtype: int64"
      ]
     },
     "execution_count": 14,
     "metadata": {},
     "output_type": "execute_result"
    }
   ],
   "source": [
    " athletes_df.groupby('NOC').Discipline.count()\n"
   ]
  },
  {
   "cell_type": "code",
   "execution_count": 15,
   "id": "0d4ec625",
   "metadata": {
    "execution": {
     "iopub.execute_input": "2021-10-18T10:05:13.430756Z",
     "iopub.status.busy": "2021-10-18T10:05:13.429953Z",
     "iopub.status.idle": "2021-10-18T10:05:13.434067Z",
     "shell.execute_reply": "2021-10-18T10:05:13.433422Z",
     "shell.execute_reply.started": "2021-10-18T08:55:00.049278Z"
    },
    "papermill": {
     "duration": 0.066024,
     "end_time": "2021-10-18T10:05:13.434223",
     "exception": false,
     "start_time": "2021-10-18T10:05:13.368199",
     "status": "completed"
    },
    "tags": []
   },
   "outputs": [
    {
     "name": "stdout",
     "output_type": "stream",
     "text": [
      "0     1.000000\n",
      "1     1.000000\n",
      "2     1.000000\n",
      "3          inf\n",
      "4     0.903918\n",
      "5     0.988506\n",
      "6     0.625000\n",
      "7     1.000000\n",
      "8     1.000000\n",
      "9     0.545455\n",
      "10    1.000000\n",
      "11    0.976190\n",
      "12    1.111111\n",
      "13    1.000000\n",
      "14    1.000000\n",
      "15    0.534351\n",
      "16    0.909091\n",
      "17    1.014085\n",
      "18    0.584000\n",
      "19    0.990741\n",
      "20    0.767442\n",
      "21    1.000000\n",
      "22    1.000000\n",
      "23    1.000000\n",
      "24    0.955224\n",
      "25    0.952381\n",
      "26    1.000000\n",
      "27    1.000000\n",
      "28         inf\n",
      "29    0.969811\n",
      "30    0.966887\n",
      "31    1.000000\n",
      "32    1.000000\n",
      "33    1.000000\n",
      "34    1.000000\n",
      "35    1.000000\n",
      "36    0.863636\n",
      "37    1.000000\n",
      "38    1.000000\n",
      "39    0.969072\n",
      "40    1.000000\n",
      "41    1.000000\n",
      "42    1.000000\n",
      "43    0.835616\n",
      "44    0.989899\n",
      "45    0.497409\n",
      "dtype: float64\n"
     ]
    }
   ],
   "source": [
    "gender_ratio = gender_df.Female/gender_df.Male\n",
    "\n",
    "print(gender_ratio)"
   ]
  },
  {
   "cell_type": "code",
   "execution_count": 16,
   "id": "06a37ef4",
   "metadata": {
    "execution": {
     "iopub.execute_input": "2021-10-18T10:05:13.549286Z",
     "iopub.status.busy": "2021-10-18T10:05:13.548531Z",
     "iopub.status.idle": "2021-10-18T10:05:13.552812Z",
     "shell.execute_reply": "2021-10-18T10:05:13.551914Z",
     "shell.execute_reply.started": "2021-10-18T08:55:00.058267Z"
    },
    "papermill": {
     "duration": 0.064226,
     "end_time": "2021-10-18T10:05:13.553027",
     "exception": false,
     "start_time": "2021-10-18T10:05:13.488801",
     "status": "completed"
    },
    "tags": []
   },
   "outputs": [
    {
     "name": "stdout",
     "output_type": "stream",
     "text": [
      "[1.         1.         1.                inf 1.         1.\n",
      " 1.         1.11111111 1.         1.         1.01408451 1.\n",
      " 1.         1.         1.         1.                inf 1.\n",
      " 1.         1.         1.         1.         1.         1.\n",
      " 1.         1.         1.        ]\n"
     ]
    }
   ],
   "source": [
    "arr = np.array(gender_ratio)\n",
    "\n",
    "filtered_array = arr >= 1\n",
    "\n",
    "newarr = arr[filtered_array]\n",
    "\n",
    "print(newarr)"
   ]
  },
  {
   "cell_type": "code",
   "execution_count": 17,
   "id": "f9e327d5",
   "metadata": {
    "execution": {
     "iopub.execute_input": "2021-10-18T10:05:13.667787Z",
     "iopub.status.busy": "2021-10-18T10:05:13.667151Z",
     "iopub.status.idle": "2021-10-18T10:05:13.669860Z",
     "shell.execute_reply": "2021-10-18T10:05:13.669223Z",
     "shell.execute_reply.started": "2021-10-18T08:55:00.068887Z"
    },
    "papermill": {
     "duration": 0.06144,
     "end_time": "2021-10-18T10:05:13.670017",
     "exception": false,
     "start_time": "2021-10-18T10:05:13.608577",
     "status": "completed"
    },
    "tags": []
   },
   "outputs": [],
   "source": [
    "medals_df.rename(columns={'Team/NOC':'NOC'}, inplace=True)\n"
   ]
  },
  {
   "cell_type": "code",
   "execution_count": 18,
   "id": "2899d88a",
   "metadata": {
    "execution": {
     "iopub.execute_input": "2021-10-18T10:05:13.789020Z",
     "iopub.status.busy": "2021-10-18T10:05:13.788319Z",
     "iopub.status.idle": "2021-10-18T10:05:13.791721Z",
     "shell.execute_reply": "2021-10-18T10:05:13.791121Z",
     "shell.execute_reply.started": "2021-10-18T08:55:00.081374Z"
    },
    "papermill": {
     "duration": 0.068049,
     "end_time": "2021-10-18T10:05:13.791859",
     "exception": false,
     "start_time": "2021-10-18T10:05:13.723810",
     "status": "completed"
    },
    "tags": []
   },
   "outputs": [
    {
     "data": {
      "text/html": [
       "<div>\n",
       "<style scoped>\n",
       "    .dataframe tbody tr th:only-of-type {\n",
       "        vertical-align: middle;\n",
       "    }\n",
       "\n",
       "    .dataframe tbody tr th {\n",
       "        vertical-align: top;\n",
       "    }\n",
       "\n",
       "    .dataframe thead th {\n",
       "        text-align: right;\n",
       "    }\n",
       "</style>\n",
       "<table border=\"1\" class=\"dataframe\">\n",
       "  <thead>\n",
       "    <tr style=\"text-align: right;\">\n",
       "      <th></th>\n",
       "      <th>Rank</th>\n",
       "      <th>NOC</th>\n",
       "      <th>Gold</th>\n",
       "      <th>Silver</th>\n",
       "      <th>Bronze</th>\n",
       "      <th>Total</th>\n",
       "      <th>Rank by Total</th>\n",
       "    </tr>\n",
       "  </thead>\n",
       "  <tbody>\n",
       "    <tr>\n",
       "      <th>0</th>\n",
       "      <td>1</td>\n",
       "      <td>United States of America</td>\n",
       "      <td>39</td>\n",
       "      <td>41</td>\n",
       "      <td>33</td>\n",
       "      <td>113</td>\n",
       "      <td>1</td>\n",
       "    </tr>\n",
       "    <tr>\n",
       "      <th>1</th>\n",
       "      <td>2</td>\n",
       "      <td>People's Republic of China</td>\n",
       "      <td>38</td>\n",
       "      <td>32</td>\n",
       "      <td>18</td>\n",
       "      <td>88</td>\n",
       "      <td>2</td>\n",
       "    </tr>\n",
       "    <tr>\n",
       "      <th>2</th>\n",
       "      <td>3</td>\n",
       "      <td>Japan</td>\n",
       "      <td>27</td>\n",
       "      <td>14</td>\n",
       "      <td>17</td>\n",
       "      <td>58</td>\n",
       "      <td>5</td>\n",
       "    </tr>\n",
       "    <tr>\n",
       "      <th>3</th>\n",
       "      <td>4</td>\n",
       "      <td>Great Britain</td>\n",
       "      <td>22</td>\n",
       "      <td>21</td>\n",
       "      <td>22</td>\n",
       "      <td>65</td>\n",
       "      <td>4</td>\n",
       "    </tr>\n",
       "    <tr>\n",
       "      <th>4</th>\n",
       "      <td>5</td>\n",
       "      <td>ROC</td>\n",
       "      <td>20</td>\n",
       "      <td>28</td>\n",
       "      <td>23</td>\n",
       "      <td>71</td>\n",
       "      <td>3</td>\n",
       "    </tr>\n",
       "  </tbody>\n",
       "</table>\n",
       "</div>"
      ],
      "text/plain": [
       "   Rank                         NOC  Gold  Silver  Bronze  Total  \\\n",
       "0     1    United States of America    39      41      33    113   \n",
       "1     2  People's Republic of China    38      32      18     88   \n",
       "2     3                       Japan    27      14      17     58   \n",
       "3     4               Great Britain    22      21      22     65   \n",
       "4     5                         ROC    20      28      23     71   \n",
       "\n",
       "   Rank by Total  \n",
       "0              1  \n",
       "1              2  \n",
       "2              5  \n",
       "3              4  \n",
       "4              3  "
      ]
     },
     "execution_count": 18,
     "metadata": {},
     "output_type": "execute_result"
    }
   ],
   "source": [
    "medals_df.head()"
   ]
  },
  {
   "cell_type": "code",
   "execution_count": 19,
   "id": "d380384c",
   "metadata": {
    "execution": {
     "iopub.execute_input": "2021-10-18T10:05:13.908450Z",
     "iopub.status.busy": "2021-10-18T10:05:13.904093Z",
     "iopub.status.idle": "2021-10-18T10:05:13.911672Z",
     "shell.execute_reply": "2021-10-18T10:05:13.911064Z",
     "shell.execute_reply.started": "2021-10-18T08:55:00.098643Z"
    },
    "papermill": {
     "duration": 0.065987,
     "end_time": "2021-10-18T10:05:13.911808",
     "exception": false,
     "start_time": "2021-10-18T10:05:13.845821",
     "status": "completed"
    },
    "tags": []
   },
   "outputs": [
    {
     "data": {
      "text/plain": [
       "0    34.513274\n",
       "1    43.181818\n",
       "2    46.551724\n",
       "3    33.846154\n",
       "4    28.169014\n",
       "dtype: float64"
      ]
     },
     "execution_count": 19,
     "metadata": {},
     "output_type": "execute_result"
    }
   ],
   "source": [
    "gold = (medals_df.Gold/medals_df.Total)*100\n",
    "\n",
    "gold.head()"
   ]
  },
  {
   "cell_type": "code",
   "execution_count": 20,
   "id": "29df2ac2",
   "metadata": {
    "execution": {
     "iopub.execute_input": "2021-10-18T10:05:14.026792Z",
     "iopub.status.busy": "2021-10-18T10:05:14.026049Z",
     "iopub.status.idle": "2021-10-18T10:05:14.292624Z",
     "shell.execute_reply": "2021-10-18T10:05:14.292119Z",
     "shell.execute_reply.started": "2021-10-18T08:55:00.111718Z"
    },
    "papermill": {
     "duration": 0.325809,
     "end_time": "2021-10-18T10:05:14.292764",
     "exception": false,
     "start_time": "2021-10-18T10:05:13.966955",
     "status": "completed"
    },
    "tags": []
   },
   "outputs": [
    {
     "data": {
      "image/png": "[encoded data removed]",
      "text/plain": [
       "<Figure size 432x288 with 1 Axes>"
      ]
     },
     "metadata": {
      "needs_background": "light"
     },
     "output_type": "display_data"
    }
   ],
   "source": [
    "import matplotlib.pyplot as plt\n",
    "\n",
    "medals_df.plot(kind='scatter', x='Gold', y='Total')\n",
    "plt.show()"
   ]
  },
  {
   "cell_type": "code",
   "execution_count": 21,
   "id": "1ce0e94a",
   "metadata": {
    "execution": {
     "iopub.execute_input": "2021-10-18T10:05:14.406449Z",
     "iopub.status.busy": "2021-10-18T10:05:14.405749Z",
     "iopub.status.idle": "2021-10-18T10:05:14.421828Z",
     "shell.execute_reply": "2021-10-18T10:05:14.421250Z",
     "shell.execute_reply.started": "2021-10-18T08:55:00.377567Z"
    },
    "papermill": {
     "duration": 0.074296,
     "end_time": "2021-10-18T10:05:14.421996",
     "exception": false,
     "start_time": "2021-10-18T10:05:14.347700",
     "status": "completed"
    },
    "tags": []
   },
   "outputs": [
    {
     "data": {
      "text/html": [
       "<div>\n",
       "<style scoped>\n",
       "    .dataframe tbody tr th:only-of-type {\n",
       "        vertical-align: middle;\n",
       "    }\n",
       "\n",
       "    .dataframe tbody tr th {\n",
       "        vertical-align: top;\n",
       "    }\n",
       "\n",
       "    .dataframe thead th {\n",
       "        text-align: right;\n",
       "    }\n",
       "</style>\n",
       "<table border=\"1\" class=\"dataframe\">\n",
       "  <thead>\n",
       "    <tr style=\"text-align: right;\">\n",
       "      <th></th>\n",
       "      <th>Rank</th>\n",
       "      <th>Gold</th>\n",
       "      <th>Silver</th>\n",
       "      <th>Bronze</th>\n",
       "      <th>Total</th>\n",
       "      <th>Rank by Total</th>\n",
       "    </tr>\n",
       "  </thead>\n",
       "  <tbody>\n",
       "    <tr>\n",
       "      <th>Rank</th>\n",
       "      <td>1.000000</td>\n",
       "      <td>-0.655477</td>\n",
       "      <td>-0.597835</td>\n",
       "      <td>-0.637166</td>\n",
       "      <td>-0.655877</td>\n",
       "      <td>0.873539</td>\n",
       "    </tr>\n",
       "    <tr>\n",
       "      <th>Gold</th>\n",
       "      <td>-0.655477</td>\n",
       "      <td>1.000000</td>\n",
       "      <td>0.929046</td>\n",
       "      <td>0.862425</td>\n",
       "      <td>0.970840</td>\n",
       "      <td>-0.626012</td>\n",
       "    </tr>\n",
       "    <tr>\n",
       "      <th>Silver</th>\n",
       "      <td>-0.597835</td>\n",
       "      <td>0.929046</td>\n",
       "      <td>1.000000</td>\n",
       "      <td>0.862646</td>\n",
       "      <td>0.969439</td>\n",
       "      <td>-0.632831</td>\n",
       "    </tr>\n",
       "    <tr>\n",
       "      <th>Bronze</th>\n",
       "      <td>-0.637166</td>\n",
       "      <td>0.862425</td>\n",
       "      <td>0.862646</td>\n",
       "      <td>1.000000</td>\n",
       "      <td>0.941941</td>\n",
       "      <td>-0.745573</td>\n",
       "    </tr>\n",
       "    <tr>\n",
       "      <th>Total</th>\n",
       "      <td>-0.655877</td>\n",
       "      <td>0.970840</td>\n",
       "      <td>0.969439</td>\n",
       "      <td>0.941941</td>\n",
       "      <td>1.000000</td>\n",
       "      <td>-0.692450</td>\n",
       "    </tr>\n",
       "    <tr>\n",
       "      <th>Rank by Total</th>\n",
       "      <td>0.873539</td>\n",
       "      <td>-0.626012</td>\n",
       "      <td>-0.632831</td>\n",
       "      <td>-0.745573</td>\n",
       "      <td>-0.692450</td>\n",
       "      <td>1.000000</td>\n",
       "    </tr>\n",
       "  </tbody>\n",
       "</table>\n",
       "</div>"
      ],
      "text/plain": [
       "                   Rank      Gold    Silver    Bronze     Total  Rank by Total\n",
       "Rank           1.000000 -0.655477 -0.597835 -0.637166 -0.655877       0.873539\n",
       "Gold          -0.655477  1.000000  0.929046  0.862425  0.970840      -0.626012\n",
       "Silver        -0.597835  0.929046  1.000000  0.862646  0.969439      -0.632831\n",
       "Bronze        -0.637166  0.862425  0.862646  1.000000  0.941941      -0.745573\n",
       "Total         -0.655877  0.970840  0.969439  0.941941  1.000000      -0.692450\n",
       "Rank by Total  0.873539 -0.626012 -0.632831 -0.745573 -0.692450       1.000000"
      ]
     },
     "execution_count": 21,
     "metadata": {},
     "output_type": "execute_result"
    }
   ],
   "source": [
    "medals_df.corr()"
   ]
  },
  {
   "cell_type": "code",
   "execution_count": 22,
   "id": "32cf4206",
   "metadata": {
    "execution": {
     "iopub.execute_input": "2021-10-18T10:05:14.537861Z",
     "iopub.status.busy": "2021-10-18T10:05:14.536771Z",
     "iopub.status.idle": "2021-10-18T10:05:14.734143Z",
     "shell.execute_reply": "2021-10-18T10:05:14.734615Z",
     "shell.execute_reply.started": "2021-10-18T08:55:00.394625Z"
    },
    "papermill": {
     "duration": 0.257097,
     "end_time": "2021-10-18T10:05:14.734796",
     "exception": false,
     "start_time": "2021-10-18T10:05:14.477699",
     "status": "completed"
    },
    "tags": []
   },
   "outputs": [
    {
     "data": {
      "image/png": "[encoded data removed]",
      "text/plain": [
       "<Figure size 432x288 with 1 Axes>"
      ]
     },
     "metadata": {
      "needs_background": "light"
     },
     "output_type": "display_data"
    }
   ],
   "source": [
    "medals_df.plot(kind=\"scatter\", x=\"Silver\",y=\"Total\")\n",
    "plt.show()"
   ]
  },
  {
   "cell_type": "code",
   "execution_count": 23,
   "id": "f3b2f895",
   "metadata": {
    "execution": {
     "iopub.execute_input": "2021-10-18T10:05:14.851089Z",
     "iopub.status.busy": "2021-10-18T10:05:14.850079Z",
     "iopub.status.idle": "2021-10-18T10:05:15.048449Z",
     "shell.execute_reply": "2021-10-18T10:05:15.048994Z",
     "shell.execute_reply.started": "2021-10-18T08:55:00.595611Z"
    },
    "papermill": {
     "duration": 0.258354,
     "end_time": "2021-10-18T10:05:15.049192",
     "exception": false,
     "start_time": "2021-10-18T10:05:14.790838",
     "status": "completed"
    },
    "tags": []
   },
   "outputs": [
    {
     "data": {
      "text/plain": [
       "<AxesSubplot:ylabel='Frequency'>"
      ]
     },
     "execution_count": 23,
     "metadata": {},
     "output_type": "execute_result"
    },
    {
     "data": {
      "image/png": "[encoded data removed]",
      "text/plain": [
       "<Figure size 432x288 with 1 Axes>"
      ]
     },
     "metadata": {
      "needs_background": "light"
     },
     "output_type": "display_data"
    }
   ],
   "source": [
    "medals_df.Total.plot(kind='hist')"
   ]
  },
  {
   "cell_type": "code",
   "execution_count": 24,
   "id": "c41a7cf7",
   "metadata": {
    "execution": {
     "iopub.execute_input": "2021-10-18T10:05:15.170923Z",
     "iopub.status.busy": "2021-10-18T10:05:15.169862Z",
     "iopub.status.idle": "2021-10-18T10:05:15.374566Z",
     "shell.execute_reply": "2021-10-18T10:05:15.375047Z",
     "shell.execute_reply.started": "2021-10-18T08:55:00.845660Z"
    },
    "papermill": {
     "duration": 0.267502,
     "end_time": "2021-10-18T10:05:15.375228",
     "exception": false,
     "start_time": "2021-10-18T10:05:15.107726",
     "status": "completed"
    },
    "tags": []
   },
   "outputs": [
    {
     "data": {
      "text/plain": [
       "<AxesSubplot:ylabel='Frequency'>"
      ]
     },
     "execution_count": 24,
     "metadata": {},
     "output_type": "execute_result"
    },
    {
     "data": {
      "image/png": "[encoded data removed]",
      "text/plain": [
       "<Figure size 432x288 with 1 Axes>"
      ]
     },
     "metadata": {
      "needs_background": "light"
     },
     "output_type": "display_data"
    }
   ],
   "source": [
    "medals_df.Gold.plot(kind=\"hist\")"
   ]
  },
  {
   "cell_type": "code",
   "execution_count": 25,
   "id": "f27d75f6",
   "metadata": {
    "execution": {
     "iopub.execute_input": "2021-10-18T10:05:15.496636Z",
     "iopub.status.busy": "2021-10-18T10:05:15.495621Z",
     "iopub.status.idle": "2021-10-18T10:05:15.504313Z",
     "shell.execute_reply": "2021-10-18T10:05:15.503756Z",
     "shell.execute_reply.started": "2021-10-18T08:55:01.102910Z"
    },
    "papermill": {
     "duration": 0.071008,
     "end_time": "2021-10-18T10:05:15.504458",
     "exception": false,
     "start_time": "2021-10-18T10:05:15.433450",
     "status": "completed"
    },
    "tags": []
   },
   "outputs": [
    {
     "data": {
      "text/plain": [
       "Name            0\n",
       "NOC             0\n",
       "Discipline      0\n",
       "Event         145\n",
       "dtype: int64"
      ]
     },
     "execution_count": 25,
     "metadata": {},
     "output_type": "execute_result"
    }
   ],
   "source": [
    "coaches_df.isnull().sum()"
   ]
  },
  {
   "cell_type": "code",
   "execution_count": 26,
   "id": "b9c3983a",
   "metadata": {
    "execution": {
     "iopub.execute_input": "2021-10-18T10:05:15.629183Z",
     "iopub.status.busy": "2021-10-18T10:05:15.627728Z",
     "iopub.status.idle": "2021-10-18T10:05:15.634161Z",
     "shell.execute_reply": "2021-10-18T10:05:15.634972Z",
     "shell.execute_reply.started": "2021-10-18T08:55:01.113377Z"
    },
    "papermill": {
     "duration": 0.071766,
     "end_time": "2021-10-18T10:05:15.635210",
     "exception": false,
     "start_time": "2021-10-18T10:05:15.563444",
     "status": "completed"
    },
    "tags": []
   },
   "outputs": [
    {
     "data": {
      "text/plain": [
       "(394, 4)"
      ]
     },
     "execution_count": 26,
     "metadata": {},
     "output_type": "execute_result"
    }
   ],
   "source": [
    "coaches_df.shape"
   ]
  },
  {
   "cell_type": "code",
   "execution_count": 27,
   "id": "ed3f5180",
   "metadata": {
    "execution": {
     "iopub.execute_input": "2021-10-18T10:05:15.767524Z",
     "iopub.status.busy": "2021-10-18T10:05:15.766838Z",
     "iopub.status.idle": "2021-10-18T10:05:15.777823Z",
     "shell.execute_reply": "2021-10-18T10:05:15.777256Z",
     "shell.execute_reply.started": "2021-10-18T08:55:01.126240Z"
    },
    "papermill": {
     "duration": 0.073214,
     "end_time": "2021-10-18T10:05:15.777979",
     "exception": false,
     "start_time": "2021-10-18T10:05:15.704765",
     "status": "completed"
    },
    "tags": []
   },
   "outputs": [
    {
     "data": {
      "text/html": [
       "<div>\n",
       "<style scoped>\n",
       "    .dataframe tbody tr th:only-of-type {\n",
       "        vertical-align: middle;\n",
       "    }\n",
       "\n",
       "    .dataframe tbody tr th {\n",
       "        vertical-align: top;\n",
       "    }\n",
       "\n",
       "    .dataframe thead th {\n",
       "        text-align: right;\n",
       "    }\n",
       "</style>\n",
       "<table border=\"1\" class=\"dataframe\">\n",
       "  <thead>\n",
       "    <tr style=\"text-align: right;\">\n",
       "      <th></th>\n",
       "      <th>Name</th>\n",
       "      <th>NOC</th>\n",
       "      <th>Discipline</th>\n",
       "      <th>Event</th>\n",
       "    </tr>\n",
       "  </thead>\n",
       "  <tbody>\n",
       "    <tr>\n",
       "      <th>389</th>\n",
       "      <td>ZAMORA PEDREIRA Javier</td>\n",
       "      <td>Spain</td>\n",
       "      <td>Basketball</td>\n",
       "      <td>NaN</td>\n",
       "    </tr>\n",
       "    <tr>\n",
       "      <th>390</th>\n",
       "      <td>ZAMPIERI Francesca</td>\n",
       "      <td>Liechtenstein</td>\n",
       "      <td>Artistic Swimming</td>\n",
       "      <td>Duet</td>\n",
       "    </tr>\n",
       "    <tr>\n",
       "      <th>391</th>\n",
       "      <td>ZHANG Xiaohuan</td>\n",
       "      <td>People's Republic of China</td>\n",
       "      <td>Artistic Swimming</td>\n",
       "      <td>NaN</td>\n",
       "    </tr>\n",
       "    <tr>\n",
       "      <th>392</th>\n",
       "      <td>ZIJP Simon</td>\n",
       "      <td>Netherlands</td>\n",
       "      <td>Hockey</td>\n",
       "      <td>NaN</td>\n",
       "    </tr>\n",
       "    <tr>\n",
       "      <th>393</th>\n",
       "      <td>ZONDI Nkuliso</td>\n",
       "      <td>South Africa</td>\n",
       "      <td>Hockey</td>\n",
       "      <td>Women</td>\n",
       "    </tr>\n",
       "  </tbody>\n",
       "</table>\n",
       "</div>"
      ],
      "text/plain": [
       "                       Name                         NOC         Discipline  \\\n",
       "389  ZAMORA PEDREIRA Javier                       Spain         Basketball   \n",
       "390      ZAMPIERI Francesca               Liechtenstein  Artistic Swimming   \n",
       "391          ZHANG Xiaohuan  People's Republic of China  Artistic Swimming   \n",
       "392              ZIJP Simon                 Netherlands             Hockey   \n",
       "393           ZONDI Nkuliso                South Africa             Hockey   \n",
       "\n",
       "     Event  \n",
       "389    NaN  \n",
       "390   Duet  \n",
       "391    NaN  \n",
       "392    NaN  \n",
       "393  Women  "
      ]
     },
     "execution_count": 27,
     "metadata": {},
     "output_type": "execute_result"
    }
   ],
   "source": [
    "coaches_df.tail()"
   ]
  },
  {
   "cell_type": "code",
   "execution_count": 28,
   "id": "0cd3d58a",
   "metadata": {
    "execution": {
     "iopub.execute_input": "2021-10-18T10:05:15.904884Z",
     "iopub.status.busy": "2021-10-18T10:05:15.903831Z",
     "iopub.status.idle": "2021-10-18T10:05:15.909626Z",
     "shell.execute_reply": "2021-10-18T10:05:15.910094Z",
     "shell.execute_reply.started": "2021-10-18T08:55:01.147989Z"
    },
    "papermill": {
     "duration": 0.071084,
     "end_time": "2021-10-18T10:05:15.910270",
     "exception": false,
     "start_time": "2021-10-18T10:05:15.839186",
     "status": "completed"
    },
    "tags": []
   },
   "outputs": [],
   "source": [
    "coaches_df.dropna(inplace=True)"
   ]
  },
  {
   "cell_type": "code",
   "execution_count": 29,
   "id": "c7d22e6e",
   "metadata": {
    "execution": {
     "iopub.execute_input": "2021-10-18T10:05:16.036274Z",
     "iopub.status.busy": "2021-10-18T10:05:16.033558Z",
     "iopub.status.idle": "2021-10-18T10:05:16.038322Z",
     "shell.execute_reply": "2021-10-18T10:05:16.038819Z",
     "shell.execute_reply.started": "2021-10-18T08:55:01.157047Z"
    },
    "papermill": {
     "duration": 0.068622,
     "end_time": "2021-10-18T10:05:16.039013",
     "exception": false,
     "start_time": "2021-10-18T10:05:15.970391",
     "status": "completed"
    },
    "tags": []
   },
   "outputs": [],
   "source": [
    "coaches_df.reset_index(inplace=True)"
   ]
  },
  {
   "cell_type": "code",
   "execution_count": 30,
   "id": "7b1b33c9",
   "metadata": {
    "execution": {
     "iopub.execute_input": "2021-10-18T10:05:16.170598Z",
     "iopub.status.busy": "2021-10-18T10:05:16.169747Z",
     "iopub.status.idle": "2021-10-18T10:05:16.173083Z",
     "shell.execute_reply": "2021-10-18T10:05:16.173560Z",
     "shell.execute_reply.started": "2021-10-18T08:55:01.169751Z"
    },
    "papermill": {
     "duration": 0.074568,
     "end_time": "2021-10-18T10:05:16.173726",
     "exception": false,
     "start_time": "2021-10-18T10:05:16.099158",
     "status": "completed"
    },
    "tags": []
   },
   "outputs": [
    {
     "data": {
      "text/html": [
       "<div>\n",
       "<style scoped>\n",
       "    .dataframe tbody tr th:only-of-type {\n",
       "        vertical-align: middle;\n",
       "    }\n",
       "\n",
       "    .dataframe tbody tr th {\n",
       "        vertical-align: top;\n",
       "    }\n",
       "\n",
       "    .dataframe thead th {\n",
       "        text-align: right;\n",
       "    }\n",
       "</style>\n",
       "<table border=\"1\" class=\"dataframe\">\n",
       "  <thead>\n",
       "    <tr style=\"text-align: right;\">\n",
       "      <th></th>\n",
       "      <th>index</th>\n",
       "      <th>Name</th>\n",
       "      <th>NOC</th>\n",
       "      <th>Discipline</th>\n",
       "      <th>Event</th>\n",
       "    </tr>\n",
       "  </thead>\n",
       "  <tbody>\n",
       "    <tr>\n",
       "      <th>0</th>\n",
       "      <td>5</td>\n",
       "      <td>AIKMAN Siegfried Gottlieb</td>\n",
       "      <td>Japan</td>\n",
       "      <td>Hockey</td>\n",
       "      <td>Men</td>\n",
       "    </tr>\n",
       "    <tr>\n",
       "      <th>1</th>\n",
       "      <td>6</td>\n",
       "      <td>AL SAADI Kais</td>\n",
       "      <td>Germany</td>\n",
       "      <td>Hockey</td>\n",
       "      <td>Men</td>\n",
       "    </tr>\n",
       "    <tr>\n",
       "      <th>2</th>\n",
       "      <td>7</td>\n",
       "      <td>ALAMEDA Lonni</td>\n",
       "      <td>Canada</td>\n",
       "      <td>Baseball/Softball</td>\n",
       "      <td>Softball</td>\n",
       "    </tr>\n",
       "    <tr>\n",
       "      <th>3</th>\n",
       "      <td>8</td>\n",
       "      <td>ALEKNO Vladimir</td>\n",
       "      <td>Islamic Republic of Iran</td>\n",
       "      <td>Volleyball</td>\n",
       "      <td>Men</td>\n",
       "    </tr>\n",
       "    <tr>\n",
       "      <th>4</th>\n",
       "      <td>9</td>\n",
       "      <td>ALEKSEEV Alexey</td>\n",
       "      <td>ROC</td>\n",
       "      <td>Handball</td>\n",
       "      <td>Women</td>\n",
       "    </tr>\n",
       "  </tbody>\n",
       "</table>\n",
       "</div>"
      ],
      "text/plain": [
       "   index                       Name                       NOC  \\\n",
       "0      5  AIKMAN Siegfried Gottlieb                     Japan   \n",
       "1      6              AL SAADI Kais                   Germany   \n",
       "2      7              ALAMEDA Lonni                    Canada   \n",
       "3      8            ALEKNO Vladimir  Islamic Republic of Iran   \n",
       "4      9            ALEKSEEV Alexey                       ROC   \n",
       "\n",
       "          Discipline     Event  \n",
       "0             Hockey       Men  \n",
       "1             Hockey       Men  \n",
       "2  Baseball/Softball  Softball  \n",
       "3         Volleyball       Men  \n",
       "4           Handball     Women  "
      ]
     },
     "execution_count": 30,
     "metadata": {},
     "output_type": "execute_result"
    }
   ],
   "source": [
    "coaches_df.head()"
   ]
  },
  {
   "cell_type": "code",
   "execution_count": 31,
   "id": "096b881c",
   "metadata": {
    "execution": {
     "iopub.execute_input": "2021-10-18T10:05:16.297918Z",
     "iopub.status.busy": "2021-10-18T10:05:16.296896Z",
     "iopub.status.idle": "2021-10-18T10:05:16.302158Z",
     "shell.execute_reply": "2021-10-18T10:05:16.302620Z",
     "shell.execute_reply.started": "2021-10-18T08:55:01.187458Z"
    },
    "papermill": {
     "duration": 0.068562,
     "end_time": "2021-10-18T10:05:16.302791",
     "exception": false,
     "start_time": "2021-10-18T10:05:16.234229",
     "status": "completed"
    },
    "tags": []
   },
   "outputs": [],
   "source": [
    "x = teams_df.groupby('Discipline').NOC.count()"
   ]
  },
  {
   "cell_type": "code",
   "execution_count": 32,
   "id": "961c224f",
   "metadata": {
    "execution": {
     "iopub.execute_input": "2021-10-18T10:05:16.427074Z",
     "iopub.status.busy": "2021-10-18T10:05:16.425997Z",
     "iopub.status.idle": "2021-10-18T10:05:16.742672Z",
     "shell.execute_reply": "2021-10-18T10:05:16.742092Z",
     "shell.execute_reply.started": "2021-10-18T08:55:01.199357Z"
    },
    "papermill": {
     "duration": 0.379841,
     "end_time": "2021-10-18T10:05:16.742811",
     "exception": false,
     "start_time": "2021-10-18T10:05:16.362970",
     "status": "completed"
    },
    "tags": []
   },
   "outputs": [
    {
     "data": {
      "text/plain": [
       "<function matplotlib.pyplot.show(close=None, block=None)>"
      ]
     },
     "execution_count": 32,
     "metadata": {},
     "output_type": "execute_result"
    },
    {
     "data": {
      "image/png": "[encoded data removed]",
      "text/plain": [
       "<Figure size 432x288 with 1 Axes>"
      ]
     },
     "metadata": {
      "needs_background": "light"
     },
     "output_type": "display_data"
    }
   ],
   "source": [
    "x = teams_df.groupby('Discipline').NOC.count()\n",
    "x.plot(kind='bar', color='red',title=\"Number of disciplines by coutries \",ylabel=\"count\")\n",
    "plt.show"
   ]
  },
  {
   "cell_type": "code",
   "execution_count": 33,
   "id": "0cb553ea",
   "metadata": {
    "execution": {
     "iopub.execute_input": "2021-10-18T10:05:16.872825Z",
     "iopub.status.busy": "2021-10-18T10:05:16.871844Z",
     "iopub.status.idle": "2021-10-18T10:05:16.874907Z",
     "shell.execute_reply": "2021-10-18T10:05:16.874282Z",
     "shell.execute_reply.started": "2021-10-18T08:55:01.565836Z"
    },
    "papermill": {
     "duration": 0.071088,
     "end_time": "2021-10-18T10:05:16.875068",
     "exception": false,
     "start_time": "2021-10-18T10:05:16.803980",
     "status": "completed"
    },
    "tags": []
   },
   "outputs": [],
   "source": [
    "w = gender_df.groupby('Discipline').Female.sum()\n",
    "neww=w.sort_values(ascending=False).head()"
   ]
  },
  {
   "cell_type": "code",
   "execution_count": 34,
   "id": "da4e7e72",
   "metadata": {
    "execution": {
     "iopub.execute_input": "2021-10-18T10:05:17.003676Z",
     "iopub.status.busy": "2021-10-18T10:05:17.003036Z",
     "iopub.status.idle": "2021-10-18T10:05:17.168525Z",
     "shell.execute_reply": "2021-10-18T10:05:17.168995Z",
     "shell.execute_reply.started": "2021-10-18T08:55:01.574374Z"
    },
    "papermill": {
     "duration": 0.230962,
     "end_time": "2021-10-18T10:05:17.169187",
     "exception": false,
     "start_time": "2021-10-18T10:05:16.938225",
     "status": "completed"
    },
    "tags": []
   },
   "outputs": [
    {
     "data": {
      "text/plain": [
       "<function matplotlib.pyplot.show(close=None, block=None)>"
      ]
     },
     "execution_count": 34,
     "metadata": {},
     "output_type": "execute_result"
    },
    {
     "data": {
      "image/png": "[encoded data removed]",
      "text/plain": [
       "<Figure size 432x288 with 1 Axes>"
      ]
     },
     "metadata": {
      "needs_background": "light"
     },
     "output_type": "display_data"
    }
   ],
   "source": [
    "neww=w.sort_values(ascending=False).head()\n",
    "neww.plot(kind='barh', color='pink' , title='top 5 disciplines with female candidates', xlabel='number of females', ylabel='Discipline')\n",
    "plt.show\n"
   ]
  },
  {
   "cell_type": "code",
   "execution_count": 35,
   "id": "3daed948",
   "metadata": {
    "execution": {
     "iopub.execute_input": "2021-10-18T10:05:17.298870Z",
     "iopub.status.busy": "2021-10-18T10:05:17.298193Z",
     "iopub.status.idle": "2021-10-18T10:05:17.304044Z",
     "shell.execute_reply": "2021-10-18T10:05:17.304572Z",
     "shell.execute_reply.started": "2021-10-18T08:55:01.798212Z"
    },
    "papermill": {
     "duration": 0.072028,
     "end_time": "2021-10-18T10:05:17.304889",
     "exception": false,
     "start_time": "2021-10-18T10:05:17.232861",
     "status": "completed"
    },
    "tags": []
   },
   "outputs": [],
   "source": [
    "coachecount = coaches_df.groupby('NOC').Name.count()\n",
    "\n",
    "q = coachecount.sort_values(ascending=False).head()"
   ]
  },
  {
   "cell_type": "code",
   "execution_count": 36,
   "id": "e700ea3f",
   "metadata": {
    "execution": {
     "iopub.execute_input": "2021-10-18T10:05:17.434655Z",
     "iopub.status.busy": "2021-10-18T10:05:17.434003Z",
     "iopub.status.idle": "2021-10-18T10:05:17.619425Z",
     "shell.execute_reply": "2021-10-18T10:05:17.619910Z",
     "shell.execute_reply.started": "2021-10-18T08:55:01.805844Z"
    },
    "papermill": {
     "duration": 0.2518,
     "end_time": "2021-10-18T10:05:17.620108",
     "exception": false,
     "start_time": "2021-10-18T10:05:17.368308",
     "status": "completed"
    },
    "tags": []
   },
   "outputs": [
    {
     "data": {
      "text/plain": [
       "<function matplotlib.pyplot.show(close=None, block=None)>"
      ]
     },
     "execution_count": 36,
     "metadata": {},
     "output_type": "execute_result"
    },
    {
     "data": {
      "image/png": "[encoded data removed]",
      "text/plain": [
       "<Figure size 648x360 with 1 Axes>"
      ]
     },
     "metadata": {
      "needs_background": "light"
     },
     "output_type": "display_data"
    }
   ],
   "source": [
    "#top countries with number of coaches\n",
    "\n",
    "q = coachecount.sort_values(ascending=False).head()\n",
    "q.plot(kind='bar', color='blue', title='top 5 counties by coaches',figsize=(9,5))\n",
    "plt.show"
   ]
  },
  {
   "cell_type": "code",
   "execution_count": 37,
   "id": "33cfcbd4",
   "metadata": {
    "execution": {
     "iopub.execute_input": "2021-10-18T10:05:17.752307Z",
     "iopub.status.busy": "2021-10-18T10:05:17.751592Z",
     "iopub.status.idle": "2021-10-18T10:05:17.757014Z",
     "shell.execute_reply": "2021-10-18T10:05:17.757533Z",
     "shell.execute_reply.started": "2021-10-18T08:55:02.060591Z"
    },
    "papermill": {
     "duration": 0.073145,
     "end_time": "2021-10-18T10:05:17.757721",
     "exception": false,
     "start_time": "2021-10-18T10:05:17.684576",
     "status": "completed"
    },
    "tags": []
   },
   "outputs": [],
   "source": [
    "newt=teams_df.groupby('NOC').Discipline.count().sort_values(ascending=False).head()"
   ]
  },
  {
   "cell_type": "code",
   "execution_count": 38,
   "id": "9a7ead3d",
   "metadata": {
    "execution": {
     "iopub.execute_input": "2021-10-18T10:05:17.889028Z",
     "iopub.status.busy": "2021-10-18T10:05:17.888337Z",
     "iopub.status.idle": "2021-10-18T10:05:18.059714Z",
     "shell.execute_reply": "2021-10-18T10:05:18.060185Z",
     "shell.execute_reply.started": "2021-10-18T08:55:02.069569Z"
    },
    "papermill": {
     "duration": 0.238787,
     "end_time": "2021-10-18T10:05:18.060364",
     "exception": false,
     "start_time": "2021-10-18T10:05:17.821577",
     "status": "completed"
    },
    "tags": []
   },
   "outputs": [
    {
     "data": {
      "text/plain": [
       "<function matplotlib.pyplot.show(close=None, block=None)>"
      ]
     },
     "execution_count": 38,
     "metadata": {},
     "output_type": "execute_result"
    },
    {
     "data": {
      "image/png": "[encoded data removed]",
      "text/plain": [
       "<Figure size 864x288 with 1 Axes>"
      ]
     },
     "metadata": {
      "needs_background": "light"
     },
     "output_type": "display_data"
    }
   ],
   "source": [
    "newt=teams_df.groupby('NOC').Discipline.count().sort_values(ascending=False).head()\n",
    "newt.plot(kind='barh', color='green', title='top 5 teams by disciplines',xlabel='count',ylabel='countries',figsize=(12,4))\n",
    "plt.show\n"
   ]
  },
  {
   "cell_type": "code",
   "execution_count": 39,
   "id": "b7d09b75",
   "metadata": {
    "execution": {
     "iopub.execute_input": "2021-10-18T10:05:18.193785Z",
     "iopub.status.busy": "2021-10-18T10:05:18.193135Z",
     "iopub.status.idle": "2021-10-18T10:05:18.199129Z",
     "shell.execute_reply": "2021-10-18T10:05:18.199830Z",
     "shell.execute_reply.started": "2021-10-18T08:55:02.299288Z"
    },
    "papermill": {
     "duration": 0.074976,
     "end_time": "2021-10-18T10:05:18.200080",
     "exception": false,
     "start_time": "2021-10-18T10:05:18.125104",
     "status": "completed"
    },
    "tags": []
   },
   "outputs": [
    {
     "name": "stdout",
     "output_type": "stream",
     "text": [
      "5432\n",
      "5884\n"
     ]
    }
   ],
   "source": [
    "females =gender_df.Female.sum()\n",
    "males = gender_df.Male.sum()\n",
    "print(females)\n",
    "print(males)\n"
   ]
  },
  {
   "cell_type": "code",
   "execution_count": 40,
   "id": "01ee28ba",
   "metadata": {
    "execution": {
     "iopub.execute_input": "2021-10-18T10:05:18.344453Z",
     "iopub.status.busy": "2021-10-18T10:05:18.343687Z",
     "iopub.status.idle": "2021-10-18T10:05:18.508491Z",
     "shell.execute_reply": "2021-10-18T10:05:18.508987Z",
     "shell.execute_reply.started": "2021-10-18T08:55:02.306785Z"
    },
    "papermill": {
     "duration": 0.242043,
     "end_time": "2021-10-18T10:05:18.509167",
     "exception": false,
     "start_time": "2021-10-18T10:05:18.267124",
     "status": "completed"
    },
    "tags": []
   },
   "outputs": [
    {
     "name": "stdout",
     "output_type": "stream",
     "text": [
      "         genderparticipation\n",
      "females                 5432\n",
      "males                   5884\n"
     ]
    },
    {
     "data": {
      "text/plain": [
       "<function matplotlib.pyplot.show(close=None, block=None)>"
      ]
     },
     "execution_count": 40,
     "metadata": {},
     "output_type": "execute_result"
    },
    {
     "data": {
      "image/png": "[encoded data removed]",
      "text/plain": [
       "<Figure size 432x288 with 1 Axes>"
      ]
     },
     "metadata": {},
     "output_type": "display_data"
    }
   ],
   "source": [
    "piegender=pd.DataFrame({'genderparticipation':[5432,5884]},index=['females','males'])\n",
    "print(piegender)\n",
    "piegender.plot(kind='pie',x=females, subplots=True)\n",
    "plt.show"
   ]
  },
  {
   "cell_type": "markdown",
   "id": "9f24a094",
   "metadata": {
    "papermill": {
     "duration": 0.068539,
     "end_time": "2021-10-18T10:05:18.644664",
     "exception": false,
     "start_time": "2021-10-18T10:05:18.576125",
     "status": "completed"
    },
    "tags": []
   },
   "source": [
    "# Top five countries with most number of athletes in 2021 olympics"
   ]
  },
  {
   "cell_type": "code",
   "execution_count": 41,
   "id": "d92aeacc",
   "metadata": {
    "execution": {
     "iopub.execute_input": "2021-10-18T10:05:18.784704Z",
     "iopub.status.busy": "2021-10-18T10:05:18.783989Z",
     "iopub.status.idle": "2021-10-18T10:05:18.978638Z",
     "shell.execute_reply": "2021-10-18T10:05:18.978127Z",
     "shell.execute_reply.started": "2021-10-18T08:55:02.485727Z"
    },
    "papermill": {
     "duration": 0.267933,
     "end_time": "2021-10-18T10:05:18.978781",
     "exception": false,
     "start_time": "2021-10-18T10:05:18.710848",
     "status": "completed"
    },
    "tags": []
   },
   "outputs": [
    {
     "data": {
      "text/plain": [
       "<function matplotlib.pyplot.show(close=None, block=None)>"
      ]
     },
     "execution_count": 41,
     "metadata": {},
     "output_type": "execute_result"
    },
    {
     "data": {
      "image/png": "[encoded data removed]",
      "text/plain": [
       "<Figure size 576x432 with 1 Axes>"
      ]
     },
     "metadata": {
      "needs_background": "light"
     },
     "output_type": "display_data"
    }
   ],
   "source": [
    "numathe= athletes_df.groupby('NOC').Name.count().sort_values(ascending=False).head()\n",
    "numathe.plot(kind='bar', title=\"Top 5 Number of athletes by country\", figsize=(8,6), xlabel=\"country\",\n",
    "            ylabel=\"number of atheletes\", color=\"green\")\n",
    "plt.show\n"
   ]
  },
  {
   "cell_type": "code",
   "execution_count": 42,
   "id": "bae23805",
   "metadata": {
    "execution": {
     "iopub.execute_input": "2021-10-18T10:05:19.131826Z",
     "iopub.status.busy": "2021-10-18T10:05:19.130874Z",
     "iopub.status.idle": "2021-10-18T10:05:19.134647Z",
     "shell.execute_reply": "2021-10-18T10:05:19.134120Z",
     "shell.execute_reply.started": "2021-10-18T08:55:02.752782Z"
    },
    "papermill": {
     "duration": 0.087042,
     "end_time": "2021-10-18T10:05:19.134793",
     "exception": false,
     "start_time": "2021-10-18T10:05:19.047751",
     "status": "completed"
    },
    "tags": []
   },
   "outputs": [
    {
     "data": {
      "text/html": [
       "<div>\n",
       "<style scoped>\n",
       "    .dataframe tbody tr th:only-of-type {\n",
       "        vertical-align: middle;\n",
       "    }\n",
       "\n",
       "    .dataframe tbody tr th {\n",
       "        vertical-align: top;\n",
       "    }\n",
       "\n",
       "    .dataframe thead th {\n",
       "        text-align: right;\n",
       "    }\n",
       "</style>\n",
       "<table border=\"1\" class=\"dataframe\">\n",
       "  <thead>\n",
       "    <tr style=\"text-align: right;\">\n",
       "      <th></th>\n",
       "      <th>Rank</th>\n",
       "      <th>NOC</th>\n",
       "      <th>Gold</th>\n",
       "      <th>Silver</th>\n",
       "      <th>Bronze</th>\n",
       "      <th>Total</th>\n",
       "      <th>Rank by Total</th>\n",
       "    </tr>\n",
       "  </thead>\n",
       "  <tbody>\n",
       "    <tr>\n",
       "      <th>0</th>\n",
       "      <td>1</td>\n",
       "      <td>United States of America</td>\n",
       "      <td>39</td>\n",
       "      <td>41</td>\n",
       "      <td>33</td>\n",
       "      <td>113</td>\n",
       "      <td>1</td>\n",
       "    </tr>\n",
       "    <tr>\n",
       "      <th>1</th>\n",
       "      <td>2</td>\n",
       "      <td>People's Republic of China</td>\n",
       "      <td>38</td>\n",
       "      <td>32</td>\n",
       "      <td>18</td>\n",
       "      <td>88</td>\n",
       "      <td>2</td>\n",
       "    </tr>\n",
       "    <tr>\n",
       "      <th>2</th>\n",
       "      <td>3</td>\n",
       "      <td>Japan</td>\n",
       "      <td>27</td>\n",
       "      <td>14</td>\n",
       "      <td>17</td>\n",
       "      <td>58</td>\n",
       "      <td>5</td>\n",
       "    </tr>\n",
       "    <tr>\n",
       "      <th>3</th>\n",
       "      <td>4</td>\n",
       "      <td>Great Britain</td>\n",
       "      <td>22</td>\n",
       "      <td>21</td>\n",
       "      <td>22</td>\n",
       "      <td>65</td>\n",
       "      <td>4</td>\n",
       "    </tr>\n",
       "    <tr>\n",
       "      <th>4</th>\n",
       "      <td>5</td>\n",
       "      <td>ROC</td>\n",
       "      <td>20</td>\n",
       "      <td>28</td>\n",
       "      <td>23</td>\n",
       "      <td>71</td>\n",
       "      <td>3</td>\n",
       "    </tr>\n",
       "  </tbody>\n",
       "</table>\n",
       "</div>"
      ],
      "text/plain": [
       "   Rank                         NOC  Gold  Silver  Bronze  Total  \\\n",
       "0     1    United States of America    39      41      33    113   \n",
       "1     2  People's Republic of China    38      32      18     88   \n",
       "2     3                       Japan    27      14      17     58   \n",
       "3     4               Great Britain    22      21      22     65   \n",
       "4     5                         ROC    20      28      23     71   \n",
       "\n",
       "   Rank by Total  \n",
       "0              1  \n",
       "1              2  \n",
       "2              5  \n",
       "3              4  \n",
       "4              3  "
      ]
     },
     "execution_count": 42,
     "metadata": {},
     "output_type": "execute_result"
    }
   ],
   "source": [
    "medals_df.head()"
   ]
  },
  {
   "cell_type": "code",
   "execution_count": 43,
   "id": "25e10e8f",
   "metadata": {
    "execution": {
     "iopub.execute_input": "2021-10-18T10:05:19.278510Z",
     "iopub.status.busy": "2021-10-18T10:05:19.277861Z",
     "iopub.status.idle": "2021-10-18T10:05:19.301860Z",
     "shell.execute_reply": "2021-10-18T10:05:19.301324Z",
     "shell.execute_reply.started": "2021-10-18T08:55:02.764934Z"
    },
    "papermill": {
     "duration": 0.09912,
     "end_time": "2021-10-18T10:05:19.302028",
     "exception": false,
     "start_time": "2021-10-18T10:05:19.202908",
     "status": "completed"
    },
    "tags": []
   },
   "outputs": [
    {
     "data": {
      "text/html": [
       "<div>\n",
       "<style scoped>\n",
       "    .dataframe tbody tr th:only-of-type {\n",
       "        vertical-align: middle;\n",
       "    }\n",
       "\n",
       "    .dataframe tbody tr th {\n",
       "        vertical-align: top;\n",
       "    }\n",
       "\n",
       "    .dataframe thead th {\n",
       "        text-align: right;\n",
       "    }\n",
       "</style>\n",
       "<table border=\"1\" class=\"dataframe\">\n",
       "  <thead>\n",
       "    <tr style=\"text-align: right;\">\n",
       "      <th></th>\n",
       "      <th>Rank</th>\n",
       "      <th>Gold</th>\n",
       "      <th>Silver</th>\n",
       "      <th>Bronze</th>\n",
       "      <th>Total</th>\n",
       "      <th>Rank by Total</th>\n",
       "    </tr>\n",
       "  </thead>\n",
       "  <tbody>\n",
       "    <tr>\n",
       "      <th>count</th>\n",
       "      <td>93.000000</td>\n",
       "      <td>93.000000</td>\n",
       "      <td>93.000000</td>\n",
       "      <td>93.000000</td>\n",
       "      <td>93.000000</td>\n",
       "      <td>93.000000</td>\n",
       "    </tr>\n",
       "    <tr>\n",
       "      <th>mean</th>\n",
       "      <td>46.333333</td>\n",
       "      <td>3.655914</td>\n",
       "      <td>3.634409</td>\n",
       "      <td>4.322581</td>\n",
       "      <td>11.612903</td>\n",
       "      <td>43.494624</td>\n",
       "    </tr>\n",
       "    <tr>\n",
       "      <th>std</th>\n",
       "      <td>26.219116</td>\n",
       "      <td>7.022471</td>\n",
       "      <td>6.626339</td>\n",
       "      <td>6.210372</td>\n",
       "      <td>19.091332</td>\n",
       "      <td>24.171769</td>\n",
       "    </tr>\n",
       "    <tr>\n",
       "      <th>min</th>\n",
       "      <td>1.000000</td>\n",
       "      <td>0.000000</td>\n",
       "      <td>0.000000</td>\n",
       "      <td>0.000000</td>\n",
       "      <td>1.000000</td>\n",
       "      <td>1.000000</td>\n",
       "    </tr>\n",
       "    <tr>\n",
       "      <th>25%</th>\n",
       "      <td>24.000000</td>\n",
       "      <td>0.000000</td>\n",
       "      <td>0.000000</td>\n",
       "      <td>1.000000</td>\n",
       "      <td>2.000000</td>\n",
       "      <td>23.000000</td>\n",
       "    </tr>\n",
       "    <tr>\n",
       "      <th>50%</th>\n",
       "      <td>46.000000</td>\n",
       "      <td>1.000000</td>\n",
       "      <td>1.000000</td>\n",
       "      <td>2.000000</td>\n",
       "      <td>4.000000</td>\n",
       "      <td>47.000000</td>\n",
       "    </tr>\n",
       "    <tr>\n",
       "      <th>75%</th>\n",
       "      <td>70.000000</td>\n",
       "      <td>3.000000</td>\n",
       "      <td>4.000000</td>\n",
       "      <td>5.000000</td>\n",
       "      <td>11.000000</td>\n",
       "      <td>66.000000</td>\n",
       "    </tr>\n",
       "    <tr>\n",
       "      <th>max</th>\n",
       "      <td>86.000000</td>\n",
       "      <td>39.000000</td>\n",
       "      <td>41.000000</td>\n",
       "      <td>33.000000</td>\n",
       "      <td>113.000000</td>\n",
       "      <td>77.000000</td>\n",
       "    </tr>\n",
       "  </tbody>\n",
       "</table>\n",
       "</div>"
      ],
      "text/plain": [
       "            Rank       Gold     Silver     Bronze       Total  Rank by Total\n",
       "count  93.000000  93.000000  93.000000  93.000000   93.000000      93.000000\n",
       "mean   46.333333   3.655914   3.634409   4.322581   11.612903      43.494624\n",
       "std    26.219116   7.022471   6.626339   6.210372   19.091332      24.171769\n",
       "min     1.000000   0.000000   0.000000   0.000000    1.000000       1.000000\n",
       "25%    24.000000   0.000000   0.000000   1.000000    2.000000      23.000000\n",
       "50%    46.000000   1.000000   1.000000   2.000000    4.000000      47.000000\n",
       "75%    70.000000   3.000000   4.000000   5.000000   11.000000      66.000000\n",
       "max    86.000000  39.000000  41.000000  33.000000  113.000000      77.000000"
      ]
     },
     "execution_count": 43,
     "metadata": {},
     "output_type": "execute_result"
    }
   ],
   "source": [
    "medals_df.describe()"
   ]
  },
  {
   "cell_type": "code",
   "execution_count": 44,
   "id": "a0a74ebd",
   "metadata": {
    "execution": {
     "iopub.execute_input": "2021-10-18T10:05:19.447254Z",
     "iopub.status.busy": "2021-10-18T10:05:19.446293Z",
     "iopub.status.idle": "2021-10-18T10:05:19.449868Z",
     "shell.execute_reply": "2021-10-18T10:05:19.450601Z",
     "shell.execute_reply.started": "2021-10-18T08:55:02.800148Z"
    },
    "papermill": {
     "duration": 0.080062,
     "end_time": "2021-10-18T10:05:19.450836",
     "exception": false,
     "start_time": "2021-10-18T10:05:19.370774",
     "status": "completed"
    },
    "tags": []
   },
   "outputs": [
    {
     "name": "stdout",
     "output_type": "stream",
     "text": [
      "0    11.470588\n",
      "1    11.176471\n",
      "2     7.941176\n",
      "3     6.470588\n",
      "4     5.882353\n",
      "Name: Gold, dtype: float64\n"
     ]
    }
   ],
   "source": [
    "total_gold= medals_df.Gold.sum()\n",
    "percentgold=medals_df.Gold.map(lambda g: (g/total_gold)*100).head()\n",
    "print(percentgold)"
   ]
  },
  {
   "cell_type": "code",
   "execution_count": 45,
   "id": "c0e0f99c",
   "metadata": {
    "execution": {
     "iopub.execute_input": "2021-10-18T10:05:19.598150Z",
     "iopub.status.busy": "2021-10-18T10:05:19.597211Z",
     "iopub.status.idle": "2021-10-18T10:05:19.600614Z",
     "shell.execute_reply": "2021-10-18T10:05:19.601141Z",
     "shell.execute_reply.started": "2021-10-18T08:55:02.809422Z"
    },
    "papermill": {
     "duration": 0.080135,
     "end_time": "2021-10-18T10:05:19.601321",
     "exception": false,
     "start_time": "2021-10-18T10:05:19.521186",
     "status": "completed"
    },
    "tags": []
   },
   "outputs": [
    {
     "name": "stdout",
     "output_type": "stream",
     "text": [
      "0    12.130178\n",
      "1     9.467456\n",
      "2     4.142012\n",
      "3     6.213018\n",
      "4     8.284024\n",
      "Name: Silver, dtype: float64\n"
     ]
    }
   ],
   "source": [
    "total_silver= medals_df.Silver.sum()\n",
    "percentsilver=medals_df.Silver.map(lambda s: (s/total_silver)*100).head()\n",
    "\n",
    "print(percentsilver)"
   ]
  },
  {
   "cell_type": "code",
   "execution_count": 46,
   "id": "de385d5a",
   "metadata": {
    "execution": {
     "iopub.execute_input": "2021-10-18T10:05:19.747740Z",
     "iopub.status.busy": "2021-10-18T10:05:19.746915Z",
     "iopub.status.idle": "2021-10-18T10:05:19.750868Z",
     "shell.execute_reply": "2021-10-18T10:05:19.750313Z",
     "shell.execute_reply.started": "2021-10-18T08:55:02.823682Z"
    },
    "papermill": {
     "duration": 0.080245,
     "end_time": "2021-10-18T10:05:19.751025",
     "exception": false,
     "start_time": "2021-10-18T10:05:19.670780",
     "status": "completed"
    },
    "tags": []
   },
   "outputs": [
    {
     "name": "stdout",
     "output_type": "stream",
     "text": [
      "0    8.208955\n",
      "1    4.477612\n",
      "2    4.228856\n",
      "3    5.472637\n",
      "4    5.721393\n",
      "Name: Bronze, dtype: float64\n"
     ]
    }
   ],
   "source": [
    "total_bronze= medals_df.Bronze.sum()\n",
    "percentbronze=medals_df.Bronze.map(lambda s: (s/total_bronze)*100).head()\n",
    "print(percentbronze)"
   ]
  },
  {
   "cell_type": "markdown",
   "id": "97655cfe",
   "metadata": {
    "papermill": {
     "duration": 0.069595,
     "end_time": "2021-10-18T10:05:19.891179",
     "exception": false,
     "start_time": "2021-10-18T10:05:19.821584",
     "status": "completed"
    },
    "tags": []
   },
   "source": [
    "# Rankings of countries and skewness of medal counts from top to bottom"
   ]
  },
  {
   "cell_type": "code",
   "execution_count": 47,
   "id": "eb5a3f87",
   "metadata": {
    "execution": {
     "iopub.execute_input": "2021-10-18T10:05:20.073575Z",
     "iopub.status.busy": "2021-10-18T10:05:20.065701Z",
     "iopub.status.idle": "2021-10-18T10:05:20.342153Z",
     "shell.execute_reply": "2021-10-18T10:05:20.341572Z",
     "shell.execute_reply.started": "2021-10-18T08:55:02.835018Z"
    },
    "papermill": {
     "duration": 0.380926,
     "end_time": "2021-10-18T10:05:20.342295",
     "exception": false,
     "start_time": "2021-10-18T10:05:19.961369",
     "status": "completed"
    },
    "tags": []
   },
   "outputs": [
    {
     "data": {
      "text/plain": [
       "<function matplotlib.pyplot.show(close=None, block=None)>"
      ]
     },
     "execution_count": 47,
     "metadata": {},
     "output_type": "execute_result"
    },
    {
     "data": {
      "image/png": "[encoded data removed]",
      "text/plain": [
       "<Figure size 1080x432 with 1 Axes>"
      ]
     },
     "metadata": {
      "needs_background": "light"
     },
     "output_type": "display_data"
    }
   ],
   "source": [
    "medals_df.plot(kind=\"line\",x=\"NOC\", figsize=(15,6),title=\"Rankings of countries by medals\", xlabel=\"Country names\")\n",
    "plt.show"
   ]
  },
  {
   "cell_type": "markdown",
   "id": "427995ca",
   "metadata": {
    "papermill": {
     "duration": 0.072587,
     "end_time": "2021-10-18T10:05:20.488267",
     "exception": false,
     "start_time": "2021-10-18T10:05:20.415680",
     "status": "completed"
    },
    "tags": []
   },
   "source": [
    "# Percentage of medals earned by top countries "
   ]
  },
  {
   "cell_type": "code",
   "execution_count": 48,
   "id": "9f61343d",
   "metadata": {
    "execution": {
     "iopub.execute_input": "2021-10-18T10:05:20.670715Z",
     "iopub.status.busy": "2021-10-18T10:05:20.643751Z",
     "iopub.status.idle": "2021-10-18T10:05:20.917962Z",
     "shell.execute_reply": "2021-10-18T10:05:20.917398Z",
     "shell.execute_reply.started": "2021-10-18T08:55:03.183262Z"
    },
    "papermill": {
     "duration": 0.355588,
     "end_time": "2021-10-18T10:05:20.918120",
     "exception": false,
     "start_time": "2021-10-18T10:05:20.562532",
     "status": "completed"
    },
    "tags": []
   },
   "outputs": [
    {
     "name": "stdout",
     "output_type": "stream",
     "text": [
      "                                 gold     silver    bronze\n",
      "NOC                                                       \n",
      "United States of America    11.470588  12.130178  8.208955\n",
      "People's Republic of China  11.176471   9.467456  4.477612\n",
      "Japan                        7.941176   4.142012  4.228856\n",
      "Great Britain                6.470588   6.213018  5.472637\n",
      "ROC                          5.882353   8.284024  5.721393\n"
     ]
    },
    {
     "data": {
      "text/plain": [
       "<AxesSubplot:title={'center':'Top5 countries with highest medals'}, xlabel='NOC', ylabel='%of medals out of total'>"
      ]
     },
     "execution_count": 48,
     "metadata": {},
     "output_type": "execute_result"
    },
    {
     "data": {
      "image/png": "[encoded data removed]",
      "text/plain": [
       "<Figure size 720x360 with 1 Axes>"
      ]
     },
     "metadata": {
      "needs_background": "light"
     },
     "output_type": "display_data"
    }
   ],
   "source": [
    "topcountry=medals_df.NOC.head()\n",
    "percentgold=np.array([medals_df.Gold.map(lambda g: (g/total_gold)*100).head()])\n",
    "arrg= percentgold.reshape(-1)\n",
    "percentsilver=np.array([medals_df.Silver.map(lambda s: (s/total_silver)*100).head()])\n",
    "arrs= percentsilver.reshape(-1)\n",
    "percentbronze=np.array([medals_df.Bronze.map(lambda s: (s/total_bronze)*100).head()])\n",
    "arrb= percentbronze.reshape(-1)\n",
    "\n",
    "df=pd.DataFrame({'gold':arrg,'silver':arrs,'bronze':arrb}, index=topcountry)\n",
    "print(df)\n",
    "\n",
    "df.plot.bar(ylabel=\"%of medals out of total\", title=\"Top5 countries with highest medals\",\n",
    "                     figsize =(10,5))"
   ]
  },
  {
   "cell_type": "markdown",
   "id": "24cd09f3",
   "metadata": {
    "papermill": {
     "duration": 0.074071,
     "end_time": "2021-10-18T10:05:21.066701",
     "exception": false,
     "start_time": "2021-10-18T10:05:20.992630",
     "status": "completed"
    },
    "tags": []
   },
   "source": [
    "# Here's top countries earned medals above mean level of medals earned per country"
   ]
  },
  {
   "cell_type": "code",
   "execution_count": 49,
   "id": "db627b5e",
   "metadata": {
    "execution": {
     "iopub.execute_input": "2021-10-18T10:05:21.248133Z",
     "iopub.status.busy": "2021-10-18T10:05:21.242787Z",
     "iopub.status.idle": "2021-10-18T10:05:21.446021Z",
     "shell.execute_reply": "2021-10-18T10:05:21.446515Z",
     "shell.execute_reply.started": "2021-10-18T08:55:03.500918Z"
    },
    "papermill": {
     "duration": 0.303977,
     "end_time": "2021-10-18T10:05:21.446690",
     "exception": false,
     "start_time": "2021-10-18T10:05:21.142713",
     "status": "completed"
    },
    "tags": []
   },
   "outputs": [
    {
     "data": {
      "text/plain": [
       "<function matplotlib.pyplot.show(close=None, block=None)>"
      ]
     },
     "execution_count": 49,
     "metadata": {},
     "output_type": "execute_result"
    },
    {
     "data": {
      "image/png": "[encoded data removed]",
      "text/plain": [
       "<Figure size 720x360 with 1 Axes>"
      ]
     },
     "metadata": {
      "needs_background": "light"
     },
     "output_type": "display_data"
    }
   ],
   "source": [
    "def totalmedalpercent(row):\n",
    "    row.Total = row.Total - medals_df.Total.mean()\n",
    "    return row\n",
    "\n",
    "df=medals_df.apply(totalmedalpercent, axis=\"columns\").head()\n",
    "\n",
    "df.plot(kind=\"bar\", x=\"NOC\", y=\"Total\", title=\"total medals above mean=11.61\", figsize=(10,5))\n",
    "\n",
    "plt.show"
   ]
  },
  {
   "cell_type": "markdown",
   "id": "18438998",
   "metadata": {
    "papermill": {
     "duration": 0.078027,
     "end_time": "2021-10-18T10:05:21.600202",
     "exception": false,
     "start_time": "2021-10-18T10:05:21.522175",
     "status": "completed"
    },
    "tags": []
   },
   "source": [
    "# Countries with lowest number of of athletes participated in olympics"
   ]
  },
  {
   "cell_type": "code",
   "execution_count": 50,
   "id": "b2fa6135",
   "metadata": {
    "execution": {
     "iopub.execute_input": "2021-10-18T10:05:21.761183Z",
     "iopub.status.busy": "2021-10-18T10:05:21.760200Z",
     "iopub.status.idle": "2021-10-18T10:05:21.921762Z",
     "shell.execute_reply": "2021-10-18T10:05:21.921232Z",
     "shell.execute_reply.started": "2021-10-18T09:38:24.287610Z"
    },
    "papermill": {
     "duration": 0.246202,
     "end_time": "2021-10-18T10:05:21.921911",
     "exception": false,
     "start_time": "2021-10-18T10:05:21.675709",
     "status": "completed"
    },
    "tags": []
   },
   "outputs": [
    {
     "data": {
      "image/png": "[encoded data removed]",
      "text/plain": [
       "<Figure size 432x288 with 1 Axes>"
      ]
     },
     "metadata": {
      "needs_background": "light"
     },
     "output_type": "display_data"
    }
   ],
   "source": [
    "ath= athletes_df.groupby('NOC').Name.count().head().sort_values(ascending=True).head()\n",
    "atharr= np.array(ath)\n",
    "xpoints=np.array(ath.index)\n",
    "\n",
    "plt.bar(xpoints, atharr, width=0.2)\n",
    "plt.title(\"Countries with lowest number of athletes\", fontdict={'size':15,'color':\"red\"})\n",
    "plt.xlabel(\"Name of country\",fontdict={'size':10,'color':\"red\"})\n",
    "plt.ylabel(\"Number of athletes\",fontdict={'size':10,'color':\"red\"})\n",
    "plt.show()\n"
   ]
  },
  {
   "cell_type": "markdown",
   "id": "8f1c33c3",
   "metadata": {
    "papermill": {
     "duration": 0.077291,
     "end_time": "2021-10-18T10:05:22.075743",
     "exception": false,
     "start_time": "2021-10-18T10:05:21.998452",
     "status": "completed"
    },
    "tags": []
   },
   "source": [
    "# Countries participated in events grouped by country and discipline"
   ]
  },
  {
   "cell_type": "code",
   "execution_count": 51,
   "id": "133187e9",
   "metadata": {
    "execution": {
     "iopub.execute_input": "2021-10-18T10:05:22.236168Z",
     "iopub.status.busy": "2021-10-18T10:05:22.235121Z",
     "iopub.status.idle": "2021-10-18T10:05:22.247594Z",
     "shell.execute_reply": "2021-10-18T10:05:22.248068Z",
     "shell.execute_reply.started": "2021-10-18T09:48:06.230908Z"
    },
    "papermill": {
     "duration": 0.095881,
     "end_time": "2021-10-18T10:05:22.248252",
     "exception": false,
     "start_time": "2021-10-18T10:05:22.152371",
     "status": "completed"
    },
    "tags": []
   },
   "outputs": [
    {
     "data": {
      "text/html": [
       "<div>\n",
       "<style scoped>\n",
       "    .dataframe tbody tr th:only-of-type {\n",
       "        vertical-align: middle;\n",
       "    }\n",
       "\n",
       "    .dataframe tbody tr th {\n",
       "        vertical-align: top;\n",
       "    }\n",
       "\n",
       "    .dataframe thead th {\n",
       "        text-align: right;\n",
       "    }\n",
       "</style>\n",
       "<table border=\"1\" class=\"dataframe\">\n",
       "  <thead>\n",
       "    <tr style=\"text-align: right;\">\n",
       "      <th></th>\n",
       "      <th></th>\n",
       "      <th>Team</th>\n",
       "      <th>Event</th>\n",
       "    </tr>\n",
       "    <tr>\n",
       "      <th>NOC</th>\n",
       "      <th>Discipline</th>\n",
       "      <th></th>\n",
       "      <th></th>\n",
       "    </tr>\n",
       "  </thead>\n",
       "  <tbody>\n",
       "    <tr>\n",
       "      <th>Angola</th>\n",
       "      <th>Handball</th>\n",
       "      <td>1</td>\n",
       "      <td>1</td>\n",
       "    </tr>\n",
       "    <tr>\n",
       "      <th rowspan=\"7\" valign=\"top\">Argentina</th>\n",
       "      <th>Basketball</th>\n",
       "      <td>1</td>\n",
       "      <td>1</td>\n",
       "    </tr>\n",
       "    <tr>\n",
       "      <th>Beach Volleyball</th>\n",
       "      <td>2</td>\n",
       "      <td>2</td>\n",
       "    </tr>\n",
       "    <tr>\n",
       "      <th>Football</th>\n",
       "      <td>1</td>\n",
       "      <td>1</td>\n",
       "    </tr>\n",
       "    <tr>\n",
       "      <th>Handball</th>\n",
       "      <td>1</td>\n",
       "      <td>1</td>\n",
       "    </tr>\n",
       "    <tr>\n",
       "      <th>Hockey</th>\n",
       "      <td>2</td>\n",
       "      <td>2</td>\n",
       "    </tr>\n",
       "    <tr>\n",
       "      <th>Rugby Sevens</th>\n",
       "      <td>1</td>\n",
       "      <td>1</td>\n",
       "    </tr>\n",
       "    <tr>\n",
       "      <th>Volleyball</th>\n",
       "      <td>2</td>\n",
       "      <td>2</td>\n",
       "    </tr>\n",
       "    <tr>\n",
       "      <th rowspan=\"12\" valign=\"top\">Australia</th>\n",
       "      <th>Archery</th>\n",
       "      <td>2</td>\n",
       "      <td>2</td>\n",
       "    </tr>\n",
       "    <tr>\n",
       "      <th>Artistic Swimming</th>\n",
       "      <td>2</td>\n",
       "      <td>2</td>\n",
       "    </tr>\n",
       "    <tr>\n",
       "      <th>Athletics</th>\n",
       "      <td>1</td>\n",
       "      <td>1</td>\n",
       "    </tr>\n",
       "    <tr>\n",
       "      <th>Baseball/Softball</th>\n",
       "      <td>1</td>\n",
       "      <td>1</td>\n",
       "    </tr>\n",
       "    <tr>\n",
       "      <th>Basketball</th>\n",
       "      <td>2</td>\n",
       "      <td>2</td>\n",
       "    </tr>\n",
       "    <tr>\n",
       "      <th>Beach Volleyball</th>\n",
       "      <td>2</td>\n",
       "      <td>2</td>\n",
       "    </tr>\n",
       "    <tr>\n",
       "      <th>Cycling Track</th>\n",
       "      <td>5</td>\n",
       "      <td>5</td>\n",
       "    </tr>\n",
       "    <tr>\n",
       "      <th>Football</th>\n",
       "      <td>2</td>\n",
       "      <td>2</td>\n",
       "    </tr>\n",
       "    <tr>\n",
       "      <th>Hockey</th>\n",
       "      <td>2</td>\n",
       "      <td>2</td>\n",
       "    </tr>\n",
       "    <tr>\n",
       "      <th>Rhythmic Gymnastics</th>\n",
       "      <td>1</td>\n",
       "      <td>1</td>\n",
       "    </tr>\n",
       "    <tr>\n",
       "      <th>Rugby Sevens</th>\n",
       "      <td>2</td>\n",
       "      <td>2</td>\n",
       "    </tr>\n",
       "    <tr>\n",
       "      <th>Swimming</th>\n",
       "      <td>7</td>\n",
       "      <td>7</td>\n",
       "    </tr>\n",
       "  </tbody>\n",
       "</table>\n",
       "</div>"
      ],
      "text/plain": [
       "                               Team  Event\n",
       "NOC       Discipline                      \n",
       "Angola    Handball                1      1\n",
       "Argentina Basketball              1      1\n",
       "          Beach Volleyball        2      2\n",
       "          Football                1      1\n",
       "          Handball                1      1\n",
       "          Hockey                  2      2\n",
       "          Rugby Sevens            1      1\n",
       "          Volleyball              2      2\n",
       "Australia Archery                 2      2\n",
       "          Artistic Swimming       2      2\n",
       "          Athletics               1      1\n",
       "          Baseball/Softball       1      1\n",
       "          Basketball              2      2\n",
       "          Beach Volleyball        2      2\n",
       "          Cycling Track           5      5\n",
       "          Football                2      2\n",
       "          Hockey                  2      2\n",
       "          Rhythmic Gymnastics     1      1\n",
       "          Rugby Sevens            2      2\n",
       "          Swimming                7      7"
      ]
     },
     "execution_count": 51,
     "metadata": {},
     "output_type": "execute_result"
    }
   ],
   "source": [
    "teams_df.groupby(['NOC','Discipline']).count().head(20).rename(columns={'Name':'Team'})"
   ]
  }
 ],
 "metadata": {
  "kernelspec": {
   "display_name": "Python 3",
   "language": "python",
   "name": "python3"
  },
  "language_info": {
   "codemirror_mode": {
    "name": "ipython",
    "version": 3
   },
   "file_extension": ".py",
   "mimetype": "text/x-python",
   "name": "python",
   "nbconvert_exporter": "python",
   "pygments_lexer": "ipython3",
   "version": "3.7.10"
  },
  "papermill": {
   "default_parameters": {},
   "duration": 33.804923,
   "end_time": "2021-10-18T10:05:23.892559",
   "environment_variables": {},
   "exception": null,
   "input_path": "__notebook__.ipynb",
   "output_path": "__notebook__.ipynb",
   "parameters": {},
   "start_time": "2021-10-18T10:04:50.087636",
   "version": "2.3.3"
  }
 },
 "nbformat": 4,
 "nbformat_minor": 5
}
